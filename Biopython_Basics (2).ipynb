{
  "cells": [
    {
      "cell_type": "markdown",
      "metadata": {
        "id": "VjPJMzc40lzG"
      },
      "source": [
        "# Instalation of nessesary packages"
      ]
    },
    {
      "cell_type": "code",
      "execution_count": null,
      "metadata": {
        "id": "CTvu5SmoXvOn"
      },
      "outputs": [],
      "source": [
        "!pip install SeqIO\n",
        "!pip install biopython"
      ]
    },
    {
      "cell_type": "markdown",
      "metadata": {
        "id": "nNTJbPEG0wW4"
      },
      "source": [
        "#Task1.1.  What is reverse complement for the 'ATCGGTAATGATAGATGA' string?"
      ]
    },
    {
      "cell_type": "code",
      "execution_count": null,
      "metadata": {
        "id": "ugV1WsgVZfwQ"
      },
      "outputs": [],
      "source": [
        "import sys\n",
        "#Task1.1. (ok)\n",
        "from Bio.Seq import Seq\n",
        "# Create a DNA sequence\n",
        "#Note: Modify the line below to work with the string you want to find the reverse complement for\n",
        "sequence = Seq(\"ATCGA\")\n",
        "# Get the reverse complement\n",
        "reverse_complement = sequence.reverse_complement()\n",
        "# Print the reverse complement\n",
        "print(reverse_complement)"
      ]
    },
    {
      "cell_type": "markdown",
      "metadata": {
        "id": "F0chwSU8qD3r"
      },
      "source": [
        "# Task1.2 Example of transcription (DNA to RNA). What is the RNA transcript of \"TTCCGATC\"?"
      ]
    },
    {
      "cell_type": "code",
      "execution_count": null,
      "metadata": {
        "id": "bCSSwe-qaJZ2"
      },
      "outputs": [],
      "source": [
        "#Task1.2\n",
        "from Bio.Seq import Seq\n",
        "# Create a DNA sequence\n",
        "#Note: Modify the line below to work with the string you want to find the transcript of.\n",
        "dna_sequence = Seq(\"ATCGGTA\")\n",
        "# Perform transcription\n",
        "rna_sequence = dna_sequence.transcribe()\n",
        "# Print the RNA sequence\n",
        "print(rna_sequence)"
      ]
    },
    {
      "cell_type": "markdown",
      "metadata": {
        "id": "NBKq9CESuRCS"
      },
      "source": [
        "# Task1.3 Translation (DNA/RNA to protein). What is protein sequence of the DNA \"ATGCCTAATTTAGATGATGATGATGAAGCTTACGTAGATAGA\" sequence?"
      ]
    },
    {
      "cell_type": "code",
      "execution_count": null,
      "metadata": {
        "id": "F8VaUucVctS-"
      },
      "outputs": [],
      "source": [
        "#Task 1.3\n",
        "from Bio.Seq import Seq\n",
        "# Create a DNA sequence (ok)\n",
        "#Note: Remember what you need to modify in the line below!\n",
        "dna_sequence = Seq(\"ATTTAGGATGAACTATGTGTGACAAATGGTGCCGTTGAGTCCTCTCAACTGGGAACGAGTCACCGTGTATCTGGAGACCATGTGTGTAACGGGTTGCACCTGCTTGGCTGGATACAAAGGTGGGATTTCTTTCTGTCTTTGTCATCTCTTAGCAGATTGTATCACATTTTGGCTTAATGCTTACTCAGTCATAAGACAAGTTTCTTTTAC\")\n",
        "\n",
        "# Perform translation to a part of the protein\n",
        "protein_sequence = dna_sequence.translate()\n",
        "# Print the protein sequence\n",
        "print('This is your protein sequence', protein_sequence)\n"
      ]
    },
    {
      "cell_type": "code",
      "execution_count": null,
      "metadata": {
        "id": "2PZ_LyxqV8RC"
      },
      "outputs": [],
      "source": [
        "# Remember to place my_sequnce.fasta from https://github.com/bazyliszek/OsloMet2025 to /content/sample_data/"
      ]
    },
    {
      "cell_type": "code",
      "execution_count": null,
      "metadata": {
        "id": "h6spZAuDoRjt"
      },
      "outputs": [],
      "source": [
        "from Bio import SeqIO\n",
        "\n",
        "# Specify the FASTA file path\n",
        "#fasta_file = \"/content/drive/MyDrive/BioPythonClass_OsloMet/2025/my_sequence.fasta\"\n",
        "fasta_file = \"/content/sample_data/my_sequence.fasta\"\n",
        "\n",
        "# Read the FASTA file and extract the DNA sequence\n",
        "for record in SeqIO.parse(fasta_file, \"fasta\"):\n",
        "    dna_sequence = record.seq  # Extract the sequence as a Seq object\n",
        "\n",
        "    # Translate DNA to Protein\n",
        "    protein_sequence = dna_sequence.translate()\n",
        "\n",
        "    protein_string = str(protein_sequence)\n",
        "    proteins = protein_string.split(\"*\")\n",
        "    # Print the protein sequence\n",
        "    #print(f\"This is my protein sequence: {protein_sequence}\")\n",
        "    for protien in proteins:\n",
        "      print(protien)\n"
      ]
    },
    {
      "cell_type": "markdown",
      "metadata": {
        "id": "4Q3OP-vQu379"
      },
      "source": [
        "In case you mount the google drive"
      ]
    },
    {
      "cell_type": "markdown",
      "metadata": {
        "id": "TFjUQWcbVjj7"
      },
      "source": [
        "#Task1.4 Find the 3D structure of your favorite genes in alphafold '  https://alphafold.ebi.ac.uk/ '. # How do you think these structures were derived from? # What is model confidence for your protein?\n",
        "\n",
        "#In general regions on the edge of protein structure is more difficult to predict, this is related to data is more shaky. Structure is derived from machine learning models, for data where cristography is available"
      ]
    },
    {
      "cell_type": "markdown",
      "metadata": {
        "id": "zZWQqiPJCAc-"
      },
      "source": [
        "# What is the function of sequence alignment?"
      ]
    },
    {
      "cell_type": "code",
      "execution_count": null,
      "metadata": {
        "id": "3qTRA7-kcy-w"
      },
      "outputs": [],
      "source": [
        "from Bio import Align\n",
        "# Create a pairwise sequence aligner\n",
        "aligner = Align.PairwiseAligner()\n",
        "\n",
        "# Add sequences to align\n",
        "seq1 = \"ACGTTAGATCTTATTGTAGTTAGGATGATCCTATGATG\"\n",
        "seq2 = \"TTAGGGAAAAAA\"\n",
        "alignments = aligner.align(seq1, seq2)\n",
        "\n",
        "# Print the alignments\n",
        "for alignment in alignments:\n",
        "    print(alignment)\n",
        "\n",
        "\n",
        "###############################################################################################"
      ]
    },
    {
      "cell_type": "markdown",
      "metadata": {
        "id": "Vn0WpfRxq1V6"
      },
      "source": [
        "#Task1.5. Sequence Comparison using biopython. What is the match score of sequence \"ATCGGTATTCA\" with \"ATGGTCATTCA\"?"
      ]
    },
    {
      "cell_type": "code",
      "execution_count": null,
      "metadata": {
        "id": "XvzmbR7udB3A"
      },
      "outputs": [],
      "source": [
        "#Task1.5.\n",
        "from Bio import pairwise2\n",
        "from Bio.Seq import Seq\n",
        "\n",
        "# Create two DNA sequences\n",
        "seq1 = Seq(\"ATCGGTATTCA\")\n",
        "seq2 = Seq(\"ATGGTTTTTCA\") #\n",
        "\n",
        "# Perform pairwise sequence alignment\n",
        "alignments = pairwise2.align.globalxx(seq1, seq2)\n",
        "\n",
        "# Print the alignments\n",
        "for alignment in alignments:\n",
        "    print(pairwise2.format_alignment(*alignment))\n"
      ]
    },
    {
      "cell_type": "markdown",
      "metadata": {
        "id": "Sv-nGhSPwGfB"
      },
      "source": [
        "**PART 2** Databases"
      ]
    },
    {
      "cell_type": "markdown",
      "metadata": {
        "id": "3t-vqoejrPLH"
      },
      "source": [
        "#Task2.1.  Access NCBI database from the page https://www.ncbi.nlm.nih.gov/\n",
        "#What is the length of NC_000023.11?"
      ]
    },
    {
      "cell_type": "code",
      "execution_count": null,
      "metadata": {
        "colab": {
          "background_save": true
        },
        "id": "pR98P9yywg2x"
      },
      "outputs": [],
      "source": [
        "import sys\n",
        "#Task2.1.\n",
        "# Import the Entrez module from Biopython for accessing NCBI databases\n",
        "\n",
        "from Bio import Entrez\n",
        "# Function to fetch genomic sequence using the provided accession number\n",
        "def fetch_genomic_sequence(accession):\n",
        "    Entrez.email = \"XX.XX@gmail.com\"  # Replace with your email address\n",
        "    # Set the email address to allow NCBI to contact you in case of any issues\n",
        "    handle = Entrez.efetch(db=\"nuccore\", id=accession, rettype=\"fasta\", retmode=\"text\")\n",
        "    # 'efetch' is used to fetch the sequence data from the \"nuccore\" database using the provided accession number.\n",
        "    # 'rettype=\"fasta\"' specifies that the data should be returned in FASTA format (sequence data).\n",
        "    # 'retmode=\"text\"' indicates that the data should be returned as a text string.\n",
        "    record = handle.read()  # Read the fetched sequence data\n",
        "    handle.close()  # Close the handle to release resources\n",
        "    return record  # Return the fetched genomic sequence as a string\n",
        "\n",
        "# Example usage\n",
        "genomic_accession = \"NC_000023.11\"  #Replace with the accession number of your genomic sequence of interest NC_000019.10\n",
        "sequence = fetch_genomic_sequence(genomic_accession)  # Call the function with the accession number to retrieve the sequence\n",
        "print(sequence)  # Print the retrieved genomic sequence\n",
        "print(len(sequence))\n"
      ]
    },
    {
      "cell_type": "markdown",
      "metadata": {
        "id": "FdqW8wW9rfhq"
      },
      "source": [
        "#Task2.2.  Get protein sequence and name of the protein with ID 'NP_000508'.\n",
        "# What is the length of this protein? What is the name of the protein ID P01308.1 ?"
      ]
    },
    {
      "cell_type": "code",
      "execution_count": null,
      "metadata": {
        "id": "_dkgf9ymwLZc"
      },
      "outputs": [],
      "source": [
        "#Task2.2.\n",
        "\n",
        "# Import the Entrez module from Biopython for accessing NCBI databases\n",
        "from Bio import Entrez\n",
        "\n",
        "# Function to fetch protein sequence using the provided accession number\n",
        "def fetch_protein_sequence(accession):\n",
        "    Entrez.email = \"marcin.bazyliszek@gmail.com\"  # Replace with your email address\n",
        "    # Set the email address to allow NCBI to contact you in case of any issues\n",
        "    handle = Entrez.efetch(db=\"protein\", id=accession, rettype=\"fasta\", retmode=\"text\")\n",
        "    # 'efetch' is used to fetch the sequence data from the \"protein\" database using the provided accession number.\n",
        "    # 'rettype=\"fasta\"' specifies that the data should be returned in FASTA format (sequence data).\n",
        "    # 'retmode=\"text\"' indicates that the data should be returned as a text string.\n",
        "    record = handle.read()  # Read the fetched sequence data\n",
        "    handle.close()  # Close the handle to release resources\n",
        "    return record  # Return the fetched protein sequence as a string\n",
        "\n",
        "# Example usage\n",
        "protein_accession = \"NP_000508\"  # Replace with the accession number of your protein of interest\n",
        "sequence = fetch_protein_sequence(protein_accession)  # Call the function with the accession number to retrieve the sequence\n",
        "print(sequence)  # Print the retrieved protein sequence\n",
        "print(len(sequence))\n"
      ]
    },
    {
      "cell_type": "code",
      "execution_count": null,
      "metadata": {
        "id": "yd5kmMB6w7C0"
      },
      "outputs": [],
      "source": [
        "#Task2.3  Work a bit with mrna sequence. To which species and gene the mRNA ID \"NM_000518\" belongs to?\n",
        "# How many times this sequence has changed?\n",
        "\n",
        "# Import the Entrez module from Biopython for accessing NCBI databases\n",
        "from Bio import Entrez\n",
        "\n",
        "# Function to fetch mRNA sequence using the provided accession number\n",
        "def fetch_mrna_sequence(accession):\n",
        "    Entrez.email = \"marcin.bazyliszek@gmail.com\"  # Replace with your email address\n",
        "    # Set the email address to allow NCBI to contact you in case of any issues\n",
        "    handle = Entrez.efetch(db=\"nucleotide\", id=accession, rettype=\"fasta\", retmode=\"text\")\n",
        "    # 'efetch' is used to fetch the sequence data from the \"nucleotide\" database using the provided accession number.\n",
        "    # 'rettype=\"fasta\"' specifies that the data should be returned in FASTA format (sequence data).\n",
        "    # 'retmode=\"text\"' indicates that the data should be returned as a text string.\n",
        "    record = handle.read()  # Read the fetched sequence data\n",
        "    handle.close()  # Close the handle to release resources\n",
        "    return record  # Return the fetched mRNA sequence as a string\n",
        "\n",
        "# Example usage\n",
        "mrna_accession = \"NM_000518\"  # You can also replace with the accession number of your mRNA of interest\n",
        "sequence = fetch_mrna_sequence(mrna_accession)  # Call the function with the accession number to retrieve the sequence\n",
        "print(sequence)  # Print the retrieved mRNA sequence\n",
        "\n"
      ]
    },
    {
      "cell_type": "code",
      "execution_count": null,
      "metadata": {
        "id": "ghQ3Pivjw-HV"
      },
      "outputs": [],
      "source": [
        "# Task2.4 Can you inspect how version 1 vs 5 of NM_000518 has changed?\n",
        "mrna_accession_1 = \"NM_000518.1\"\n",
        "sequence_1 = fetch_mrna_sequence(mrna_accession)\n",
        "print(sequence_1)\n",
        "print('The length of v1 is', len(sequence_1))\n",
        "\n",
        "mrna_accession_5 = \"NM_000518.5\"\n",
        "sequence_5 = fetch_mrna_sequence(mrna_accession_5)\n",
        "print(sequence_5)\n",
        "print('The length of v5 is', len(sequence_5))\n",
        "\n",
        "from Bio import pairwise2\n",
        "from Bio.Seq import Seq\n",
        "alignments = pairwise2.align.globalxx(sequence_1, sequence_5)\n",
        "\n",
        "for alignment in alignments:\n",
        "    print(pairwise2.format_alignment(*alignment))\n",
        "\n"
      ]
    },
    {
      "cell_type": "code",
      "execution_count": null,
      "metadata": {
        "id": "xpgezr_Jyba0"
      },
      "outputs": [],
      "source": [
        "# Task2.5 Get the genomic Sequence from accession number 'NM_000518', which subunit of a protein is this?\n",
        "# Import the Entrez module from Biopython for accessing NCBI databases 'NM_000518'\n",
        "from Bio import Entrez\n",
        "# Function to fetch genomic sequence using the provided accession number\n",
        "def fetch_genomic_sequence(accession):\n",
        "    Entrez.email = \"marcin.bazyliszek@gmail.com\"  # Replace with your email address\n",
        "    # Set the email address to allow NCBI to contact you in case of any issues\n",
        "    handle = Entrez.efetch(db=\"nuccore\", id=accession, rettype=\"fasta\", retmode=\"text\")\n",
        "    # 'efetch' is used to fetch the sequence data from the \"nuccore\" database using the provided accession number.\n",
        "    # 'rettype=\"fasta\"' specifies that the data should be returned in FASTA format (sequence data).\n",
        "    # 'retmode=\"text\"' indicates that the data should be returned as a text string.\n",
        "    record = handle.read()  # Read the fetched sequence data\n",
        "    handle.close()  # Close the handle to release resources\n",
        "    return record  # Return the fetched genomic sequence as a string\n",
        "\n",
        "# Example usage\n",
        "genomic_accession = \"NM_000518\"  # Replace with the accession number of your genomic sequence of interest\n",
        "sequence = fetch_genomic_sequence(genomic_accession)  # Call the function with the accession number to retrieve the sequence\n",
        "print('This sequence is as following:', sequence)  # Print the retrieved genomic sequence\n",
        "print(len(sequence))"
      ]
    },
    {
      "cell_type": "code",
      "execution_count": null,
      "metadata": {
        "id": "YnmGv81FyiKr"
      },
      "outputs": [],
      "source": [
        "# Task2.6 PDB Structure Retrival\n",
        "\n",
        "# Import the PDBList module from Biopython for accessing the Protein Data Bank (PDB)\n",
        "from Bio.PDB import PDBList\n",
        "\n",
        "# Function to fetch PDB structure using the provided PDB ID\n",
        "def fetch_pdb_structure(pdb_id):\n",
        "    pdbl = PDBList()\n",
        "    # Create a PDBList object to interact with the PDB database\n",
        "\n",
        "    pdbl.retrieve_pdb_file(pdb_id, file_format=\"pdb\", pdir=\"./\")\n",
        "    # Use the retrieve_pdb_file method to fetch the PDB structure with the given PDB ID\n",
        "    # 'file_format=\"pdb\"' specifies that the data should be returned in PDB format (structure data).\n",
        "    # 'pdir=\"./\"' indicates that the downloaded PDB file will be saved in the current directory.\n",
        "\n",
        "    pdb_filename = f\"pdb{pdb_id.lower()}.ent\"\n",
        "    # The downloaded PDB file will have a filename in the format \"pdbXXXX.ent\", where XXXX is the PDB ID in lowercase.\n",
        "\n",
        "    return pdb_filename  # Return the filename of the downloaded PDB structure\n",
        "\n",
        "\n",
        "# Example usage\n",
        "pdb_id = \"1CRN\"  # Replace with the PDB ID of the structure you want to retrieve (1CRN)\n",
        "pdb_filename = fetch_pdb_structure(pdb_id)  # Call the function with the PDB ID to retrieve the structure\n",
        "print(f\"PDB structure {pdb_id} downloaded as {pdb_filename}\")  # Print the filename of the downloaded PDB structure\n",
        "\n",
        "#Inspect the file that was created pdb1crn.ent\n",
        "\n"
      ]
    },
    {
      "cell_type": "code",
      "execution_count": null,
      "metadata": {
        "id": "7ftCCVuSyxjL"
      },
      "outputs": [],
      "source": [
        "# Task2.7 Querying Database with TEX101 gene. What are other synonyms of this gene?\n",
        "# Import necessary modules from Biopython\n",
        "from Bio import Entrez, Medline, SeqIO\n",
        "\n",
        "# Set your email address for NCBI Entrez access\n",
        "Entrez.email = \"marcin.bazyliszek@gmail.com\" #use your email account\n",
        "\n",
        "# Use Entrez to retrieve information about available databases\n",
        "handle = Entrez.einfo()\n",
        "rec = Entrez.read(handle)\n",
        "print(rec)\n",
        "\n",
        "# Search for nucleotide sequences with gene name \"TEX101\" from \"Homo sapiens\" # was CRT and  Plasmodium falciparum\n",
        "handle = Entrez.esearch(db=\"nucleotide\", term='TEX101[Gene Name] AND \"Homo sapiens\"[Organism]')\n",
        "rec_list = Entrez.read(handle)\n",
        "\n",
        "# If there are more results than the default limit, fetch all results\n",
        "if int(rec_list['RetMax']) < int(rec_list['Count']):\n",
        "    handle = Entrez.esearch(db=\"nucleotide\", term='TEX101[Gene Name] AND \"Homo sapiens\"[Organism]',\n",
        "                            retmax=rec_list['Count'])\n",
        "    rec_list = Entrez.read(handle)\n",
        "\n",
        "# Retrieve the list of matching sequence IDs\n",
        "id_list = rec_list['IdList']\n",
        "\n",
        "# Fetch the records corresponding to the retrieved IDs in GenBank format\n",
        "hdl = Entrez.efetch(db='nucleotide', id=id_list, rettype='gb', retmax=rec_list['Count'])\n",
        "recs = list(SeqIO.parse(hdl, 'gb'))\n",
        "\n",
        "# Search for a specific sequence with name \"NM_001130011\"\n",
        "for rec in recs:\n",
        "    if rec.name == 'NM_001130011':  #was KM288867\n",
        "        break\n",
        "print(rec.name)\n",
        "print(rec.description)\n",
        "\n",
        "# Analyze sequence features\n",
        "for feature in rec.features:\n",
        "    if feature.type == 'gene':\n",
        "        print(feature.qualifiers['gene'])\n",
        "    elif feature.type == 'exon':\n",
        "        loc = feature.location\n",
        "        print('Exon', loc.start, loc.end, loc.strand)\n",
        "    else:\n",
        "        print('not processed:\\n%s' % feature)\n",
        "\n",
        "# Print annotations of the retrieved sequence\n",
        "for name, value in rec.annotations.items():\n",
        "    print('%s=%s' % (name, value))\n",
        "\n",
        "# Print the length of the sequence\n",
        "print(len(rec.seq))\n",
        "\n",
        "# Retrieve and display the references associated with the sequence\n",
        "refs = rec.annotations['references']\n",
        "print(refs)\n",
        "for ref in refs:\n",
        "    if ref.pubmed_id != '':\n",
        "        print(ref.pubmed_id)\n",
        "        handle = Entrez.efetch(db=\"pubmed\", id=[ref.pubmed_id],\n",
        "                                rettype=\"medline\", retmode=\"text\")\n",
        "        records = Medline.parse(handle)\n",
        "        for med_rec in records:\n",
        "            for k, v in med_rec.items():\n",
        "                print('%s: %s' % (k, v))\n",
        "\n"
      ]
    },
    {
      "cell_type": "code",
      "execution_count": null,
      "metadata": {
        "id": "1XCuULxay3U3"
      },
      "outputs": [],
      "source": [
        "# Task2.8 Filtering retrieved data\n",
        "# Import the SeqIO module from Biopython for parsing sequence data from files\n",
        "from Bio import SeqIO\n",
        "\n",
        "# Function to filter sequences based on their length\n",
        "def filter_sequences_by_length(sequences, min_length):\n",
        "    filtered_sequences = []  # Create an empty list to store the filtered sequences\n",
        "    for sequence in sequences:\n",
        "        if len(sequence) >= min_length:\n",
        "            # Check if the length of the sequence is greater than or equal to the minimum length\n",
        "            # If the condition is met, add the sequence to the filtered_sequences list\n",
        "            filtered_sequences.append(sequence)\n",
        "    return filtered_sequences  # Return the list of filtered sequences\n",
        "\n",
        "# Example usage\n",
        "fasta_file = \"sequence.fasta\"  # Replace with the filename of your FASTA file containing sequences\n",
        "fasta_file = \"my_sequence.fasta\"  # Replace with the filename of your FASTA file containing sequences\n",
        "fasta_file = \"/content/sample_data/my_sequence.fasta\"\n",
        "\n",
        "# https://www.ncbi.nlm.nih.gov/nuccore/NM_001130011.3?report=fasta\n",
        "min_length = 100  # Set the minimum length for filtering sequences\n",
        "sequences = SeqIO.parse(fasta_file, \"fasta\")  # Parse the FASTA file to get a sequence iterator\n",
        "filtered_sequences = filter_sequences_by_length(sequences, min_length)  # Call the function to filter sequences\n",
        "for sequence in filtered_sequences:\n",
        "    print('My fasta file has following sequence', sequence)  # Print the filtered sequences\n"
      ]
    },
    {
      "cell_type": "code",
      "execution_count": null,
      "metadata": {
        "id": "CRJ_SjeHy6uq"
      },
      "outputs": [],
      "source": [
        "# Task2.9 Reading and writing. What is the ID of the fastqc? What is the length of it?\n",
        "from Bio import SeqIO\n",
        "# Read sequences from a FASTA file\n",
        "#sequences = SeqIO.parse(\"sequence.fasta\", \"fasta\")\n",
        "sequences = SeqIO.parse(\"/content/sample_data/my_sequence.fasta\", \"fasta\")\n",
        "\n",
        "# Iterate over the sequences and print their IDs and lengths\n",
        "for sequence in sequences:\n",
        "    print(\"ID:\", sequence.id)\n",
        "    print(\"Length:\", len(sequence))\n",
        "\n"
      ]
    },
    {
      "cell_type": "markdown",
      "metadata": {
        "id": "GMazNf2U0DZ2"
      },
      "source": [
        "#PART 3 - Single cell analysis - if you made to this part that means you deserve some additional credits to perform differential analysis"
      ]
    },
    {
      "cell_type": "code",
      "execution_count": null,
      "metadata": {
        "id": "LFAPKfjV17NM"
      },
      "outputs": [],
      "source": [
        "!pip install pydeseq2\n",
        "#!pip install --upgrade numpy\n",
        "#https://pydeseq2.readthedocs.io/en/stable/\n",
        "#!pip install --upgrade scikit-learn==1.3.0 scanpy==1.9.3"
      ]
    },
    {
      "cell_type": "markdown",
      "metadata": {
        "id": "WQvcpvBs26v9"
      },
      "source": [
        "#Task3.1. what is the size of the raw imported count object? What is ENSG00000271254? remember to have correct file\n",
        "#The file you need you can find it here # https://github.com/bazyliszek/OsloMet2025"
      ]
    },
    {
      "cell_type": "markdown",
      "metadata": {
        "id": "Z-FISdus0ita"
      },
      "source": [
        "import sys\n",
        "from pydeseq2.dds import DeseqDataSet\n",
        "import pandas as pd\n",
        "from pydeseq2.ds import DeseqStats\n",
        "\n",
        "from pydeseq2.dds import DeseqDataSet\n",
        "import pandas as pd\n",
        "from pydeseq2.ds import DeseqStats\n",
        "\n",
        "\n",
        "counts = pd.read_csv('/content/sample_data/2025_count_table_for_deseq_example.csv')\n",
        "print(counts)"
      ]
    },
    {
      "cell_type": "code",
      "execution_count": null,
      "metadata": {
        "id": "DQzQ8wUC3CS7"
      },
      "outputs": [],
      "source": [
        "import sys\n",
        "from pydeseq2.dds import DeseqDataSet\n",
        "import pandas as pd\n",
        "from pydeseq2.ds import DeseqStats\n",
        "\n",
        "counts = pd.read_csv('/content/sample_data/2025_count_table_for_deseq_example.csv')\n",
        "print(counts)"
      ]
    },
    {
      "cell_type": "code",
      "execution_count": null,
      "metadata": {
        "colab": {
          "base_uri": "https://localhost:8080/"
        },
        "id": "Zrt9I4Nc3NPi",
        "outputId": "bccdbd05-bbd4-4d91-db27-7e8ef9397d71"
      },
      "outputs": [
        {
          "name": "stdout",
          "output_type": "stream",
          "text": [
            "                 Ctr_s1  Ctr_s2  Ctr_s7  Ctr_s13  RS_s6  RS_s9  RS_s12  RS_s16\n",
            "Geneid                                                                        \n",
            "ENSG00000284662       0       0       0        0      0      0       0       0\n",
            "ENSG00000186827       0       0       1        1      4      0       0       3\n",
            "ENSG00000186891       1       0       0        0      0      2       2       2\n",
            "ENSG00000160072     361     427     416      549    328    174     246     202\n",
            "ENSG00000041988     118     156     124      133    101     56      85      89\n",
            "...                 ...     ...     ...      ...    ...    ...     ...     ...\n",
            "ENSG00000271254      56      55      54       76     47     67      49      53\n",
            "ENSG00000275987       0       0       1        0      0      0       0       0\n",
            "ENSG00000268674       0       0       0        0      0      0       0       0\n",
            "ENSG00000277475       0       0       0        0      0      0       0       0\n",
            "ENSG00000275405       0       0       0        0      0      0       0       0\n",
            "\n",
            "[60663 rows x 8 columns]\n"
          ]
        }
      ],
      "source": [
        "counts = counts.set_index('Geneid')\n",
        "print(counts)"
      ]
    },
    {
      "cell_type": "code",
      "execution_count": null,
      "metadata": {
        "id": "mZvN7ZAh3Sv5"
      },
      "outputs": [],
      "source": [
        "counts = counts[counts.sum(axis=1) > 0]\n",
        "print(counts)"
      ]
    },
    {
      "cell_type": "code",
      "execution_count": null,
      "metadata": {
        "id": "d1niviBI3Zc1"
      },
      "outputs": [],
      "source": [
        "counts = counts.T\n",
        "print(counts)"
      ]
    },
    {
      "cell_type": "code",
      "execution_count": null,
      "metadata": {
        "colab": {
          "base_uri": "https://localhost:8080/"
        },
        "id": "qX09JKW13bVE",
        "outputId": "f2256a08-9eac-4162-be7f-fad857dceead"
      },
      "outputs": [
        {
          "name": "stdout",
          "output_type": "stream",
          "text": [
            "        Condition\n",
            "Sample           \n",
            "Ctr_s1          C\n",
            "Ctr_s2          C\n",
            "Ctr_s7          C\n",
            "Ctr_s13         C\n",
            "RS_s6          RS\n",
            "RS_s9          RS\n",
            "RS_s12         RS\n",
            "RS_s16         RS\n"
          ]
        }
      ],
      "source": [
        "metadata = pd.DataFrame(zip(counts.index, ['C', 'C', 'C', 'C', 'RS', 'RS', 'RS', 'RS']), columns=['Sample', 'Condition'])\n",
        "metadata = metadata.set_index('Sample')\n",
        "print(metadata)"
      ]
    },
    {
      "cell_type": "code",
      "execution_count": null,
      "metadata": {
        "id": "qtkqx0oq3ffg"
      },
      "outputs": [],
      "source": [
        "dds = DeseqDataSet(counts=counts, metadata=metadata, design_factors=\"Condition\")\n",
        "dds.deseq2()\n",
        "print(dds)"
      ]
    },
    {
      "cell_type": "code",
      "execution_count": null,
      "metadata": {
        "id": "8rue1-B83oj8"
      },
      "outputs": [],
      "source": [
        "stat_res = DeseqStats(dds, contrast=['Condition', 'RS', 'C'])\n",
        "#make summary statistics\n",
        "stat_res.summary()"
      ]
    },
    {
      "cell_type": "code",
      "execution_count": null,
      "metadata": {
        "id": "0RcAfCnc3uoH"
      },
      "outputs": [],
      "source": [
        "res = stat_res.results_df\n",
        "print(res)"
      ]
    },
    {
      "cell_type": "code",
      "execution_count": null,
      "metadata": {
        "id": "pBFILMk44Ol2"
      },
      "outputs": [],
      "source": [
        "!pip install sanbomics"
      ]
    },
    {
      "cell_type": "code",
      "execution_count": null,
      "metadata": {
        "id": "i6_KhPz44R2e"
      },
      "outputs": [],
      "source": [
        "from sanbomics.tools import id_map\n",
        "mapper = id_map(species='human')\n",
        "res['Symbol'] = res.index.map(mapper.mapper)\n",
        "res = res[res.baseMean >= 10]"
      ]
    },
    {
      "cell_type": "code",
      "execution_count": null,
      "metadata": {
        "id": "Ck1zgMcy4W0u"
      },
      "outputs": [],
      "source": [
        "print(res)"
      ]
    },
    {
      "cell_type": "code",
      "execution_count": null,
      "metadata": {
        "id": "Q9QYjYtS4Zq4"
      },
      "outputs": [],
      "source": [
        "sigs = res[(res.padj < 0.05) & (abs(res.log2FoldChange) > 0.5)]\n",
        "print(sigs)"
      ]
    },
    {
      "cell_type": "code",
      "execution_count": null,
      "metadata": {
        "id": "GtgR6aiK4ibv"
      },
      "outputs": [],
      "source": [
        "!pip install scanpy\n",
        "#!pip install --user scanpy\n",
        "#!pip install --upgrade numpy scikit-learn scanpy\n",
        "#!pip install --upgrade scikit-learn==1.3.0 scanpy==1.9.3"
      ]
    },
    {
      "cell_type": "code",
      "execution_count": null,
      "metadata": {
        "id": "DnQpEmvu4dFn"
      },
      "outputs": [],
      "source": [
        "\n",
        "#!pip install -U scikit-learn ##This works after instaltion   scikit-learn\n",
        "import scanpy as sc\n",
        "\n",
        "sc.tl.pca(dds)\n",
        "sc.pl.pca(dds, color='Condition', size=200)\n",
        "\n",
        "#import scanpy as sc\n",
        "#sc.tl.pca(dds, svd_solver='arpack')\n",
        "#sc.pl.pca(dds, color='Condition', size=200)"
      ]
    },
    {
      "cell_type": "code",
      "execution_count": null,
      "metadata": {
        "id": "6e5iD5Lm4pDH"
      },
      "outputs": [],
      "source": [
        "import numpy as np\n",
        "import seaborn as sns\n",
        "dds.layers['normed_counts']\n",
        "dds.layers['log1p'] = np.log1p(dds.layers['normed_counts'])\n",
        "dds.layers['log1p']\n",
        "\n",
        "print(sigs)\n",
        "dds_sigs = dds[:, sigs.index]\n",
        "print(dds_sigs)\n",
        "\n",
        "grapher = pd.DataFrame(dds_sigs.layers['log1p'].T, index=dds_sigs.var_names, columns=dds_sigs.obs_names)\n",
        "sns.clustermap(grapher, z_score=0, cmap = 'RdYlBu_r')"
      ]
    },
    {
      "cell_type": "code",
      "execution_count": null,
      "metadata": {
        "id": "L1r_E_y2o43n"
      },
      "outputs": [],
      "source": []
    },
    {
      "cell_type": "code",
      "execution_count": null,
      "metadata": {
        "id": "ANy1PCz6ah0v"
      },
      "outputs": [],
      "source": [
        "import pandas as pd\n",
        "anno = pd.read_csv(filename_sample_annotation)\n",
        "adata.obs['cell_groups'] = anno['cell_groups']  # categorical annotation of type pandas.Categorical\n",
        "adata.obs['time'] = anno['time']                # numerical annotation of type float\n",
        "# alternatively, you could also set the whole dataframe\n",
        "# adata.obs = anno"
      ]
    },
    {
      "cell_type": "markdown",
      "metadata": {
        "id": "Ohq_Z0_5sngk"
      },
      "source": [
        "#Part V - based on https://scanpy.readthedocs.io/en/stable/tutorials/basics/clustering.html"
      ]
    },
    {
      "cell_type": "code",
      "execution_count": null,
      "metadata": {
        "id": "fySFqvqI0atS"
      },
      "outputs": [],
      "source": [
        "# Install Core scverse libraries\n",
        "!pip install -U scikit-learn\n",
        "!pip install scanpy\n",
        "!pip install pooch"
      ]
    },
    {
      "cell_type": "code",
      "execution_count": null,
      "metadata": {
        "id": "3NU1BuwmsnHU"
      },
      "outputs": [],
      "source": [
        "# Core scverse libraries\n",
        "import scanpy as sc\n",
        "import anndata as ad\n",
        "\n",
        "# Data retrieval\n",
        "import pooch"
      ]
    },
    {
      "cell_type": "code",
      "execution_count": null,
      "metadata": {
        "id": "N6Ux82kwsv3N"
      },
      "outputs": [],
      "source": [
        "sc.settings.set_figure_params(dpi=50, facecolor=\"white\")"
      ]
    },
    {
      "cell_type": "code",
      "execution_count": null,
      "metadata": {
        "id": "9PLAcIWbsw3U"
      },
      "outputs": [],
      "source": [
        "EXAMPLE_DATA = pooch.create(\n",
        "    path=pooch.os_cache(\"scverse_tutorials\"),\n",
        "    base_url=\"doi:10.6084/m9.figshare.22716739.v1/\",\n",
        ")\n",
        "EXAMPLE_DATA.load_registry_from_doi()"
      ]
    },
    {
      "cell_type": "code",
      "execution_count": null,
      "metadata": {
        "id": "dgPqdPdDs2qS"
      },
      "outputs": [],
      "source": [
        "samples = {\n",
        "    \"s1d1\": \"s1d1_filtered_feature_bc_matrix.h5\",\n",
        "    \"s1d3\": \"s1d3_filtered_feature_bc_matrix.h5\",\n",
        "}\n",
        "adatas = {}\n",
        "\n",
        "for sample_id, filename in samples.items():\n",
        "    path = EXAMPLE_DATA.fetch(filename)\n",
        "    sample_adata = sc.read_10x_h5(path)\n",
        "    sample_adata.var_names_make_unique()\n",
        "    adatas[sample_id] = sample_adata\n",
        "\n",
        "adata = ad.concat(adatas, label=\"sample\")\n",
        "adata.obs_names_make_unique()\n",
        "print(adata.obs[\"sample\"].value_counts())\n",
        "adata"
      ]
    },
    {
      "cell_type": "code",
      "execution_count": null,
      "metadata": {
        "colab": {
          "base_uri": "https://localhost:8080/"
        },
        "id": "epQWRWxss9s7",
        "outputId": "766ae4cd-a05a-43b9-9f50-be991c36d02e"
      },
      "outputs": [
        {
          "name": "stdout",
          "output_type": "stream",
          "text": [
            "RS_s16\n"
          ]
        }
      ],
      "source": [
        "print(sample)"
      ]
    },
    {
      "cell_type": "code",
      "execution_count": null,
      "metadata": {
        "id": "MD1FePWOtNme"
      },
      "outputs": [],
      "source": [
        "# mitochondrial genes, \"MT-\" for human, \"Mt-\" for mouse\n",
        "adata.var[\"mt\"] = adata.var_names.str.startswith(\"MT-\")\n",
        "# ribosomal genes\n",
        "adata.var[\"ribo\"] = adata.var_names.str.startswith((\"RPS\", \"RPL\"))\n",
        "# hemoglobin genes\n",
        "adata.var[\"hb\"] = adata.var_names.str.contains(\"^HB[^(P)]\")"
      ]
    },
    {
      "cell_type": "code",
      "execution_count": null,
      "metadata": {
        "id": "t3mE_WQotQt0"
      },
      "outputs": [],
      "source": [
        "sc.pp.calculate_qc_metrics(\n",
        "    adata, qc_vars=[\"mt\", \"ribo\", \"hb\"], inplace=True, log1p=True\n",
        ")"
      ]
    },
    {
      "cell_type": "code",
      "execution_count": null,
      "metadata": {
        "id": "Bkb0gyC0tbmz"
      },
      "outputs": [],
      "source": [
        "sc.pl.violin(\n",
        "    adata,\n",
        "    [\"n_genes_by_counts\", \"total_counts\", \"pct_counts_mt\"],\n",
        "    jitter=0.4,\n",
        "    multi_panel=True,\n",
        ")"
      ]
    },
    {
      "cell_type": "markdown",
      "metadata": {
        "id": "U0JK_KmZsmR6"
      },
      "source": []
    },
    {
      "cell_type": "code",
      "execution_count": null,
      "metadata": {
        "id": "_y-8fxwYtglO"
      },
      "outputs": [],
      "source": [
        "sc.pl.scatter(adata, \"total_counts\", \"n_genes_by_counts\", color=\"pct_counts_mt\")"
      ]
    },
    {
      "cell_type": "code",
      "execution_count": null,
      "metadata": {
        "id": "-q_7dVZutoF8"
      },
      "outputs": [],
      "source": [
        "sc.pp.filter_cells(adata, min_genes=100)\n",
        "sc.pp.filter_genes(adata, min_cells=3)"
      ]
    },
    {
      "cell_type": "code",
      "execution_count": null,
      "metadata": {
        "id": "mZ0dZgeMtqH2"
      },
      "outputs": [],
      "source": [
        "sc.pp.scrublet(adata, batch_key=\"sample\")"
      ]
    },
    {
      "cell_type": "code",
      "execution_count": null,
      "metadata": {
        "id": "fcimFZ1gt4SP"
      },
      "outputs": [],
      "source": [
        "# Saving count data\n",
        "adata.layers[\"counts\"] = adata.X.copy()"
      ]
    },
    {
      "cell_type": "code",
      "execution_count": null,
      "metadata": {
        "id": "2mzj0j0Bskcj"
      },
      "outputs": [],
      "source": [
        "# Normalizing to median total counts\n",
        "sc.pp.normalize_total(adata)\n",
        "# Logarithmize the data\n",
        "sc.pp.log1p(adata)"
      ]
    },
    {
      "cell_type": "code",
      "execution_count": null,
      "metadata": {
        "id": "QydY15orvFk-"
      },
      "outputs": [],
      "source": [
        "sc.pp.highly_variable_genes(adata, n_top_genes=2000, batch_key=\"sample\")"
      ]
    },
    {
      "cell_type": "code",
      "execution_count": null,
      "metadata": {
        "id": "-4dSYdddvGcv"
      },
      "outputs": [],
      "source": [
        "sc.pl.highly_variable_genes(adata)"
      ]
    },
    {
      "cell_type": "code",
      "execution_count": null,
      "metadata": {
        "id": "7dKPc4RTvVdP"
      },
      "outputs": [],
      "source": [
        "sc.tl.pca(adata)"
      ]
    },
    {
      "cell_type": "code",
      "execution_count": null,
      "metadata": {
        "id": "nS-LET_KvZwl"
      },
      "outputs": [],
      "source": [
        "sc.pl.pca_variance_ratio(adata, n_pcs=50, log=True)"
      ]
    },
    {
      "cell_type": "code",
      "execution_count": null,
      "metadata": {
        "id": "gFx42kwova_1"
      },
      "outputs": [],
      "source": [
        "sc.pl.pca(\n",
        "    adata,\n",
        "    color=[\"sample\", \"sample\", \"pct_counts_mt\", \"pct_counts_mt\"],\n",
        "    dimensions=[(0, 1), (2, 3), (0, 1), (2, 3)],\n",
        "    ncols=2,\n",
        "    size=2,\n",
        ")"
      ]
    },
    {
      "cell_type": "code",
      "execution_count": null,
      "metadata": {
        "id": "NXO9lVyqvdog"
      },
      "outputs": [],
      "source": [
        "sc.pp.neighbors(adata)"
      ]
    },
    {
      "cell_type": "code",
      "execution_count": null,
      "metadata": {
        "id": "uuWnJiBYvi8o"
      },
      "outputs": [],
      "source": [
        "sc.tl.umap(adata)"
      ]
    },
    {
      "cell_type": "code",
      "execution_count": null,
      "metadata": {
        "id": "tzqbMRQKvofj"
      },
      "outputs": [],
      "source": [
        "sc.pl.umap(\n",
        "    adata,\n",
        "    color=\"sample\",\n",
        "    # Setting a smaller point size to get prevent overlap\n",
        "    size=2,\n",
        ")"
      ]
    },
    {
      "cell_type": "code",
      "execution_count": null,
      "metadata": {
        "id": "Hqe6Hb1Pv31o"
      },
      "outputs": [],
      "source": [
        "!pip install igraph"
      ]
    },
    {
      "cell_type": "code",
      "execution_count": null,
      "metadata": {
        "id": "zUrk3uYSvrDJ"
      },
      "outputs": [],
      "source": [
        "# Using the igraph implementation and a fixed number of iterations can be significantly faster, especially for larger datasets\n",
        "sc.tl.leiden(adata, flavor=\"igraph\", n_iterations=2)"
      ]
    },
    {
      "cell_type": "code",
      "execution_count": null,
      "metadata": {
        "id": "6f2yBYi4wA1O"
      },
      "outputs": [],
      "source": [
        "sc.pl.umap(adata, color=[\"leiden\"])"
      ]
    },
    {
      "cell_type": "code",
      "execution_count": null,
      "metadata": {
        "id": "r3_toHocwC9M"
      },
      "outputs": [],
      "source": [
        "sc.pl.umap(\n",
        "    adata,\n",
        "    color=[\"leiden\", \"predicted_doublet\", \"doublet_score\"],\n",
        "    # increase horizontal space between panels\n",
        "    wspace=0.5,\n",
        "    size=3,\n",
        ")"
      ]
    },
    {
      "cell_type": "code",
      "execution_count": null,
      "metadata": {
        "id": "a-2FlmOlwGwL"
      },
      "outputs": [],
      "source": [
        "sc.pl.umap(\n",
        "    adata,\n",
        "    color=[\"leiden\", \"log1p_total_counts\", \"pct_counts_mt\", \"log1p_n_genes_by_counts\"],\n",
        "    wspace=0.5,\n",
        "    ncols=2,\n",
        ")"
      ]
    },
    {
      "cell_type": "code",
      "execution_count": null,
      "metadata": {
        "id": "KcP219BewKOv"
      },
      "outputs": [],
      "source": [
        "sc.pl.umap(\n",
        "    adata,\n",
        "    color=[\"leiden\", \"log1p_total_counts\", \"pct_counts_mt\", \"log1p_n_genes_by_counts\"],\n",
        "    wspace=0.5,\n",
        "    ncols=2,\n",
        ")"
      ]
    },
    {
      "cell_type": "code",
      "execution_count": null,
      "metadata": {
        "id": "-9aAmrrhwQL-"
      },
      "outputs": [],
      "source": [
        "for res in [0.02, 0.5, 2.0]:\n",
        "    sc.tl.leiden(\n",
        "        adata, key_added=f\"leiden_res_{res:4.2f}\", resolution=res, flavor=\"igraph\"\n",
        "    )"
      ]
    },
    {
      "cell_type": "code",
      "execution_count": null,
      "metadata": {
        "id": "8_rwAYyIwRqX"
      },
      "outputs": [],
      "source": [
        "sc.pl.umap(\n",
        "    adata,\n",
        "    color=[\"leiden_res_0.02\", \"leiden_res_0.50\", \"leiden_res_2.00\"],\n",
        "    legend_loc=\"on data\",\n",
        ")"
      ]
    },
    {
      "cell_type": "code",
      "execution_count": null,
      "metadata": {
        "id": "ckKWZPhpwWJT"
      },
      "outputs": [],
      "source": [
        "sc.pl.umap(\n",
        "    adata,\n",
        "    color=[\"leiden_res_0.02\", \"leiden_res_0.50\", \"leiden_res_2.00\"],\n",
        "    legend_loc=\"on data\",\n",
        ")"
      ]
    },
    {
      "cell_type": "code",
      "execution_count": null,
      "metadata": {
        "id": "tfBHuygHwXlY"
      },
      "outputs": [],
      "source": [
        "marker_genes = {\n",
        "    \"CD14+ Mono\": [\"FCN1\", \"CD14\"],\n",
        "    \"CD16+ Mono\": [\"TCF7L2\", \"FCGR3A\", \"LYN\"],\n",
        "    # Note: DMXL2 should be negative\n",
        "    \"cDC2\": [\"CST3\", \"COTL1\", \"LYZ\", \"DMXL2\", \"CLEC10A\", \"FCER1A\"],\n",
        "    \"Erythroblast\": [\"MKI67\", \"HBA1\", \"HBB\"],\n",
        "    # Note HBM and GYPA are negative markers\n",
        "    \"Proerythroblast\": [\"CDK6\", \"SYNGR1\", \"HBM\", \"GYPA\"],\n",
        "    \"NK\": [\"GNLY\", \"NKG7\", \"CD247\", \"FCER1G\", \"TYROBP\", \"KLRG1\", \"FCGR3A\"],\n",
        "    \"ILC\": [\"ID2\", \"PLCG2\", \"GNLY\", \"SYNE1\"],\n",
        "    \"Naive CD20+ B\": [\"MS4A1\", \"IL4R\", \"IGHD\", \"FCRL1\", \"IGHM\"],\n",
        "    # Note IGHD and IGHM are negative markers\n",
        "    \"B cells\": [\n",
        "        \"MS4A1\",\n",
        "        \"ITGB1\",\n",
        "        \"COL4A4\",\n",
        "        \"PRDM1\",\n",
        "        \"IRF4\",\n",
        "        \"PAX5\",\n",
        "        \"BCL11A\",\n",
        "        \"BLK\",\n",
        "        \"IGHD\",\n",
        "        \"IGHM\",\n",
        "    ],\n",
        "    \"Plasma cells\": [\"MZB1\", \"HSP90B1\", \"FNDC3B\", \"PRDM1\", \"IGKC\", \"JCHAIN\"],\n",
        "    # Note PAX5 is a negative marker\n",
        "    \"Plasmablast\": [\"XBP1\", \"PRDM1\", \"PAX5\"],\n",
        "    \"CD4+ T\": [\"CD4\", \"IL7R\", \"TRBC2\"],\n",
        "    \"CD8+ T\": [\"CD8A\", \"CD8B\", \"GZMK\", \"GZMA\", \"CCL5\", \"GZMB\", \"GZMH\", \"GZMA\"],\n",
        "    \"T naive\": [\"LEF1\", \"CCR7\", \"TCF7\"],\n",
        "    \"pDC\": [\"GZMB\", \"IL3RA\", \"COBLL1\", \"TCF4\"],\n",
        "}"
      ]
    },
    {
      "cell_type": "code",
      "execution_count": null,
      "metadata": {
        "id": "C0ukvnI8wa-I"
      },
      "outputs": [],
      "source": [
        "sc.pl.dotplot(adata, marker_genes, groupby=\"leiden_res_0.02\", standard_scale=\"var\")"
      ]
    },
    {
      "cell_type": "code",
      "execution_count": null,
      "metadata": {
        "id": "gPSnHBIcweCE"
      },
      "outputs": [],
      "source": [
        "adata.obs[\"cell_type_lvl1\"] = adata.obs[\"leiden_res_0.02\"].map(\n",
        "    {\n",
        "        \"0\": \"Lymphocytes\",\n",
        "        \"1\": \"Monocytes\",\n",
        "        \"2\": \"Erythroid\",\n",
        "        \"3\": \"B Cells\",\n",
        "    }\n",
        ")"
      ]
    },
    {
      "cell_type": "code",
      "execution_count": null,
      "metadata": {
        "id": "r4pdDbRdwg0P"
      },
      "outputs": [],
      "source": [
        "sc.pl.dotplot(adata, marker_genes, groupby=\"leiden_res_0.50\", standard_scale=\"var\")"
      ]
    },
    {
      "cell_type": "code",
      "execution_count": null,
      "metadata": {
        "id": "vyT9ncRqwkSk"
      },
      "outputs": [],
      "source": [
        "# Obtain cluster-specific differentially expressed genes\n",
        "sc.tl.rank_genes_groups(adata, groupby=\"leiden_res_0.50\", method=\"wilcoxon\")"
      ]
    },
    {
      "cell_type": "code",
      "execution_count": null,
      "metadata": {
        "id": "a5KGimr4wpT1"
      },
      "outputs": [],
      "source": [
        "sc.pl.rank_genes_groups_dotplot(\n",
        "    adata, groupby=\"leiden_res_0.50\", standard_scale=\"var\", n_genes=5\n",
        ")"
      ]
    },
    {
      "cell_type": "code",
      "execution_count": null,
      "metadata": {
        "colab": {
          "base_uri": "https://localhost:8080/",
          "height": 206
        },
        "id": "lZATDxeRwrK6",
        "outputId": "7a5ad959-5bfa-4cc1-e597-0ce09b3f9a8e"
      },
      "outputs": [
        {
          "data": {
            "application/vnd.google.colaboratory.intrinsic+json": {
              "summary": "{\n  \"name\": \"sc\",\n  \"rows\": 5,\n  \"fields\": [\n    {\n      \"column\": \"names\",\n      \"properties\": {\n        \"dtype\": \"string\",\n        \"num_unique_values\": 5,\n        \"samples\": [\n          \"CD74\",\n          \"PLD4\",\n          \"HLA-DPA1\"\n        ],\n        \"semantic_type\": \"\",\n        \"description\": \"\"\n      }\n    },\n    {\n      \"column\": \"scores\",\n      \"properties\": {\n        \"dtype\": \"float32\",\n        \"num_unique_values\": 5,\n        \"samples\": [\n          22.023555755615234,\n          21.160097122192383,\n          22.005332946777344\n        ],\n        \"semantic_type\": \"\",\n        \"description\": \"\"\n      }\n    },\n    {\n      \"column\": \"logfoldchanges\",\n      \"properties\": {\n        \"dtype\": \"float32\",\n        \"num_unique_values\": 5,\n        \"samples\": [\n          4.283602237701416,\n          5.634465217590332,\n          4.140804290771484\n        ],\n        \"semantic_type\": \"\",\n        \"description\": \"\"\n      }\n    },\n    {\n      \"column\": \"pvals\",\n      \"properties\": {\n        \"dtype\": \"number\",\n        \"std\": 9.959235523848748e-100,\n        \"min\": 1.2942291931522999e-117,\n        \"max\": 2.227651078602885e-99,\n        \"num_unique_values\": 5,\n        \"samples\": [\n          1.7128192304721715e-107,\n          2.227651078602885e-99,\n          2.5602822033422353e-107\n        ],\n        \"semantic_type\": \"\",\n        \"description\": \"\"\n      }\n    },\n    {\n      \"column\": \"pvals_adj\",\n      \"properties\": {\n        \"dtype\": \"number\",\n        \"std\": 4.665935468524769e-96,\n        \"min\": 3.031990730797893e-113,\n        \"max\": 1.0437436363685957e-95,\n        \"num_unique_values\": 4,\n        \"samples\": [\n          1.9993243725899516e-103,\n          1.0437436363685957e-95,\n          3.031990730797893e-113\n        ],\n        \"semantic_type\": \"\",\n        \"description\": \"\"\n      }\n    }\n  ]\n}",
              "type": "dataframe"
            },
            "text/html": [
              "\n",
              "  <div id=\"df-97810c6a-77f3-40ed-a738-36542a1d0b60\" class=\"colab-df-container\">\n",
              "    <div>\n",
              "<style scoped>\n",
              "    .dataframe tbody tr th:only-of-type {\n",
              "        vertical-align: middle;\n",
              "    }\n",
              "\n",
              "    .dataframe tbody tr th {\n",
              "        vertical-align: top;\n",
              "    }\n",
              "\n",
              "    .dataframe thead th {\n",
              "        text-align: right;\n",
              "    }\n",
              "</style>\n",
              "<table border=\"1\" class=\"dataframe\">\n",
              "  <thead>\n",
              "    <tr style=\"text-align: right;\">\n",
              "      <th></th>\n",
              "      <th>names</th>\n",
              "      <th>scores</th>\n",
              "      <th>logfoldchanges</th>\n",
              "      <th>pvals</th>\n",
              "      <th>pvals_adj</th>\n",
              "    </tr>\n",
              "  </thead>\n",
              "  <tbody>\n",
              "    <tr>\n",
              "      <th>0</th>\n",
              "      <td>CST3</td>\n",
              "      <td>23.055540</td>\n",
              "      <td>5.704651</td>\n",
              "      <td>1.294229e-117</td>\n",
              "      <td>3.031991e-113</td>\n",
              "    </tr>\n",
              "    <tr>\n",
              "      <th>1</th>\n",
              "      <td>CD74</td>\n",
              "      <td>22.023556</td>\n",
              "      <td>4.283602</td>\n",
              "      <td>1.712819e-107</td>\n",
              "      <td>1.999324e-103</td>\n",
              "    </tr>\n",
              "    <tr>\n",
              "      <th>2</th>\n",
              "      <td>HLA-DPA1</td>\n",
              "      <td>22.005333</td>\n",
              "      <td>4.140804</td>\n",
              "      <td>2.560282e-107</td>\n",
              "      <td>1.999324e-103</td>\n",
              "    </tr>\n",
              "    <tr>\n",
              "      <th>3</th>\n",
              "      <td>HLA-DRB1</td>\n",
              "      <td>21.472746</td>\n",
              "      <td>4.110368</td>\n",
              "      <td>2.799818e-102</td>\n",
              "      <td>1.639783e-98</td>\n",
              "    </tr>\n",
              "    <tr>\n",
              "      <th>4</th>\n",
              "      <td>PLD4</td>\n",
              "      <td>21.160097</td>\n",
              "      <td>5.634465</td>\n",
              "      <td>2.227651e-99</td>\n",
              "      <td>1.043744e-95</td>\n",
              "    </tr>\n",
              "  </tbody>\n",
              "</table>\n",
              "</div>\n",
              "    <div class=\"colab-df-buttons\">\n",
              "\n",
              "  <div class=\"colab-df-container\">\n",
              "    <button class=\"colab-df-convert\" onclick=\"convertToInteractive('df-97810c6a-77f3-40ed-a738-36542a1d0b60')\"\n",
              "            title=\"Convert this dataframe to an interactive table.\"\n",
              "            style=\"display:none;\">\n",
              "\n",
              "  <svg xmlns=\"http://www.w3.org/2000/svg\" height=\"24px\" viewBox=\"0 -960 960 960\">\n",
              "    <path d=\"M120-120v-720h720v720H120Zm60-500h600v-160H180v160Zm220 220h160v-160H400v160Zm0 220h160v-160H400v160ZM180-400h160v-160H180v160Zm440 0h160v-160H620v160ZM180-180h160v-160H180v160Zm440 0h160v-160H620v160Z\"/>\n",
              "  </svg>\n",
              "    </button>\n",
              "\n",
              "  <style>\n",
              "    .colab-df-container {\n",
              "      display:flex;\n",
              "      gap: 12px;\n",
              "    }\n",
              "\n",
              "    .colab-df-convert {\n",
              "      background-color: #E8F0FE;\n",
              "      border: none;\n",
              "      border-radius: 50%;\n",
              "      cursor: pointer;\n",
              "      display: none;\n",
              "      fill: #1967D2;\n",
              "      height: 32px;\n",
              "      padding: 0 0 0 0;\n",
              "      width: 32px;\n",
              "    }\n",
              "\n",
              "    .colab-df-convert:hover {\n",
              "      background-color: #E2EBFA;\n",
              "      box-shadow: 0px 1px 2px rgba(60, 64, 67, 0.3), 0px 1px 3px 1px rgba(60, 64, 67, 0.15);\n",
              "      fill: #174EA6;\n",
              "    }\n",
              "\n",
              "    .colab-df-buttons div {\n",
              "      margin-bottom: 4px;\n",
              "    }\n",
              "\n",
              "    [theme=dark] .colab-df-convert {\n",
              "      background-color: #3B4455;\n",
              "      fill: #D2E3FC;\n",
              "    }\n",
              "\n",
              "    [theme=dark] .colab-df-convert:hover {\n",
              "      background-color: #434B5C;\n",
              "      box-shadow: 0px 1px 3px 1px rgba(0, 0, 0, 0.15);\n",
              "      filter: drop-shadow(0px 1px 2px rgba(0, 0, 0, 0.3));\n",
              "      fill: #FFFFFF;\n",
              "    }\n",
              "  </style>\n",
              "\n",
              "    <script>\n",
              "      const buttonEl =\n",
              "        document.querySelector('#df-97810c6a-77f3-40ed-a738-36542a1d0b60 button.colab-df-convert');\n",
              "      buttonEl.style.display =\n",
              "        google.colab.kernel.accessAllowed ? 'block' : 'none';\n",
              "\n",
              "      async function convertToInteractive(key) {\n",
              "        const element = document.querySelector('#df-97810c6a-77f3-40ed-a738-36542a1d0b60');\n",
              "        const dataTable =\n",
              "          await google.colab.kernel.invokeFunction('convertToInteractive',\n",
              "                                                    [key], {});\n",
              "        if (!dataTable) return;\n",
              "\n",
              "        const docLinkHtml = 'Like what you see? Visit the ' +\n",
              "          '<a target=\"_blank\" href=https://colab.research.google.com/notebooks/data_table.ipynb>data table notebook</a>'\n",
              "          + ' to learn more about interactive tables.';\n",
              "        element.innerHTML = '';\n",
              "        dataTable['output_type'] = 'display_data';\n",
              "        await google.colab.output.renderOutput(dataTable, element);\n",
              "        const docLink = document.createElement('div');\n",
              "        docLink.innerHTML = docLinkHtml;\n",
              "        element.appendChild(docLink);\n",
              "      }\n",
              "    </script>\n",
              "  </div>\n",
              "\n",
              "\n",
              "<div id=\"df-0a917c2c-6fdc-4de3-98ea-3d8b822a2939\">\n",
              "  <button class=\"colab-df-quickchart\" onclick=\"quickchart('df-0a917c2c-6fdc-4de3-98ea-3d8b822a2939')\"\n",
              "            title=\"Suggest charts\"\n",
              "            style=\"display:none;\">\n",
              "\n",
              "<svg xmlns=\"http://www.w3.org/2000/svg\" height=\"24px\"viewBox=\"0 0 24 24\"\n",
              "     width=\"24px\">\n",
              "    <g>\n",
              "        <path d=\"M19 3H5c-1.1 0-2 .9-2 2v14c0 1.1.9 2 2 2h14c1.1 0 2-.9 2-2V5c0-1.1-.9-2-2-2zM9 17H7v-7h2v7zm4 0h-2V7h2v10zm4 0h-2v-4h2v4z\"/>\n",
              "    </g>\n",
              "</svg>\n",
              "  </button>\n",
              "\n",
              "<style>\n",
              "  .colab-df-quickchart {\n",
              "      --bg-color: #E8F0FE;\n",
              "      --fill-color: #1967D2;\n",
              "      --hover-bg-color: #E2EBFA;\n",
              "      --hover-fill-color: #174EA6;\n",
              "      --disabled-fill-color: #AAA;\n",
              "      --disabled-bg-color: #DDD;\n",
              "  }\n",
              "\n",
              "  [theme=dark] .colab-df-quickchart {\n",
              "      --bg-color: #3B4455;\n",
              "      --fill-color: #D2E3FC;\n",
              "      --hover-bg-color: #434B5C;\n",
              "      --hover-fill-color: #FFFFFF;\n",
              "      --disabled-bg-color: #3B4455;\n",
              "      --disabled-fill-color: #666;\n",
              "  }\n",
              "\n",
              "  .colab-df-quickchart {\n",
              "    background-color: var(--bg-color);\n",
              "    border: none;\n",
              "    border-radius: 50%;\n",
              "    cursor: pointer;\n",
              "    display: none;\n",
              "    fill: var(--fill-color);\n",
              "    height: 32px;\n",
              "    padding: 0;\n",
              "    width: 32px;\n",
              "  }\n",
              "\n",
              "  .colab-df-quickchart:hover {\n",
              "    background-color: var(--hover-bg-color);\n",
              "    box-shadow: 0 1px 2px rgba(60, 64, 67, 0.3), 0 1px 3px 1px rgba(60, 64, 67, 0.15);\n",
              "    fill: var(--button-hover-fill-color);\n",
              "  }\n",
              "\n",
              "  .colab-df-quickchart-complete:disabled,\n",
              "  .colab-df-quickchart-complete:disabled:hover {\n",
              "    background-color: var(--disabled-bg-color);\n",
              "    fill: var(--disabled-fill-color);\n",
              "    box-shadow: none;\n",
              "  }\n",
              "\n",
              "  .colab-df-spinner {\n",
              "    border: 2px solid var(--fill-color);\n",
              "    border-color: transparent;\n",
              "    border-bottom-color: var(--fill-color);\n",
              "    animation:\n",
              "      spin 1s steps(1) infinite;\n",
              "  }\n",
              "\n",
              "  @keyframes spin {\n",
              "    0% {\n",
              "      border-color: transparent;\n",
              "      border-bottom-color: var(--fill-color);\n",
              "      border-left-color: var(--fill-color);\n",
              "    }\n",
              "    20% {\n",
              "      border-color: transparent;\n",
              "      border-left-color: var(--fill-color);\n",
              "      border-top-color: var(--fill-color);\n",
              "    }\n",
              "    30% {\n",
              "      border-color: transparent;\n",
              "      border-left-color: var(--fill-color);\n",
              "      border-top-color: var(--fill-color);\n",
              "      border-right-color: var(--fill-color);\n",
              "    }\n",
              "    40% {\n",
              "      border-color: transparent;\n",
              "      border-right-color: var(--fill-color);\n",
              "      border-top-color: var(--fill-color);\n",
              "    }\n",
              "    60% {\n",
              "      border-color: transparent;\n",
              "      border-right-color: var(--fill-color);\n",
              "    }\n",
              "    80% {\n",
              "      border-color: transparent;\n",
              "      border-right-color: var(--fill-color);\n",
              "      border-bottom-color: var(--fill-color);\n",
              "    }\n",
              "    90% {\n",
              "      border-color: transparent;\n",
              "      border-bottom-color: var(--fill-color);\n",
              "    }\n",
              "  }\n",
              "</style>\n",
              "\n",
              "  <script>\n",
              "    async function quickchart(key) {\n",
              "      const quickchartButtonEl =\n",
              "        document.querySelector('#' + key + ' button');\n",
              "      quickchartButtonEl.disabled = true;  // To prevent multiple clicks.\n",
              "      quickchartButtonEl.classList.add('colab-df-spinner');\n",
              "      try {\n",
              "        const charts = await google.colab.kernel.invokeFunction(\n",
              "            'suggestCharts', [key], {});\n",
              "      } catch (error) {\n",
              "        console.error('Error during call to suggestCharts:', error);\n",
              "      }\n",
              "      quickchartButtonEl.classList.remove('colab-df-spinner');\n",
              "      quickchartButtonEl.classList.add('colab-df-quickchart-complete');\n",
              "    }\n",
              "    (() => {\n",
              "      let quickchartButtonEl =\n",
              "        document.querySelector('#df-0a917c2c-6fdc-4de3-98ea-3d8b822a2939 button');\n",
              "      quickchartButtonEl.style.display =\n",
              "        google.colab.kernel.accessAllowed ? 'block' : 'none';\n",
              "    })();\n",
              "  </script>\n",
              "</div>\n",
              "\n",
              "    </div>\n",
              "  </div>\n"
            ],
            "text/plain": [
              "      names     scores  logfoldchanges          pvals      pvals_adj\n",
              "0      CST3  23.055540        5.704651  1.294229e-117  3.031991e-113\n",
              "1      CD74  22.023556        4.283602  1.712819e-107  1.999324e-103\n",
              "2  HLA-DPA1  22.005333        4.140804  2.560282e-107  1.999324e-103\n",
              "3  HLA-DRB1  21.472746        4.110368  2.799818e-102   1.639783e-98\n",
              "4      PLD4  21.160097        5.634465   2.227651e-99   1.043744e-95"
            ]
          },
          "execution_count": 88,
          "metadata": {},
          "output_type": "execute_result"
        }
      ],
      "source": [
        "sc.get.rank_genes_groups_df(adata, group=\"7\").head(5)"
      ]
    },
    {
      "cell_type": "code",
      "execution_count": null,
      "metadata": {
        "id": "zRNZNmtRwuUw"
      },
      "outputs": [],
      "source": [
        "dc_cluster_genes = sc.get.rank_genes_groups_df(adata, group=\"7\").head(5)[\"names\"]\n",
        "sc.pl.umap(\n",
        "    adata,\n",
        "    color=[*dc_cluster_genes, \"leiden_res_0.50\"],\n",
        "    legend_loc=\"on data\",\n",
        "    frameon=False,\n",
        "    ncols=3,\n",
        ")"
      ]
    }
  ],
  "metadata": {
    "colab": {
      "provenance": []
    },
    "kernelspec": {
      "display_name": "Python 3",
      "name": "python3"
    },
    "language_info": {
      "name": "python"
    }
  },
  "nbformat": 4,
  "nbformat_minor": 0
}