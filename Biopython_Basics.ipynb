{
  "cells": [
    {
      "cell_type": "markdown",
      "source": [
        "# ✨✨✨✨ Part 1 BIOPYTHON ✨✨✨✨"
      ],
      "metadata": {
        "id": "R6fKzELTFkm3"
      }
    },
    {
      "cell_type": "markdown",
      "metadata": {
        "id": "WQOzJLoa1dcx"
      },
      "source": [
        "# ✨ Installation of Packages ✨"
      ]
    },
    {
      "cell_type": "code",
      "execution_count": null,
      "metadata": {
        "id": "CTvu5SmoXvOn"
      },
      "outputs": [],
      "source": [
        "!pip install SeqIO\n",
        "!pip install biopython"
      ]
    },
    {
      "cell_type": "markdown",
      "metadata": {
        "id": "nNTJbPEG0wW4"
      },
      "source": [
        "# ✨ Task1.1.  What is reverse complement of the DNA sequence 'ATCGGTAATGATAGATGA'? ✨"
      ]
    },
    {
      "cell_type": "code",
      "execution_count": null,
      "metadata": {
        "id": "ugV1WsgVZfwQ"
      },
      "outputs": [],
      "source": [
        "#Task1.1. Work together!\n",
        "\n",
        "import sys\n",
        "from Bio.Seq import Seq\n",
        "# Create a DNA sequence\n",
        "#Note: Modify the line below to work with the string you want to find the reverse complement for\n",
        "sequence = Seq(\"ATCGA\")\n",
        "# Get the reverse complement\n",
        "reverse_complement = sequence.reverse_complement()\n",
        "# Print the reverse complement\n",
        "print(reverse_complement)"
      ]
    },
    {
      "cell_type": "markdown",
      "metadata": {
        "id": "F0chwSU8qD3r"
      },
      "source": [
        "# ✨ Task1.2 Example of transcription ✨\n",
        "* What is the RNA transcript of the DNA sequence 'TTCCGATC'? ✨"
      ]
    },
    {
      "cell_type": "code",
      "execution_count": null,
      "metadata": {
        "id": "bCSSwe-qaJZ2"
      },
      "outputs": [],
      "source": [
        "#Task1.2\n",
        "from Bio.Seq import Seq\n",
        "# Create a DNA sequence\n",
        "#Note: Modify the line below to work with the string you want to find the transcript of.\n",
        "dna_sequence = Seq(\"ATCGGTA\")\n",
        "# Perform transcription\n",
        "rna_sequence = dna_sequence.transcribe()\n",
        "# Print the RNA sequence\n",
        "print(rna_sequence)"
      ]
    },
    {
      "cell_type": "markdown",
      "metadata": {
        "id": "NBKq9CESuRCS"
      },
      "source": [
        "# ✨ Task1.3 Translation in action: Converting DNA/RNA into a Protein Sequence. ✨\n",
        "* What is the protein sequence encoded by the DNA sequence\"ATGCCTAATTTAGATGATGATGATGAAGCTTACGTAGATAGA\"? ✨"
      ]
    },
    {
      "cell_type": "code",
      "execution_count": null,
      "metadata": {
        "id": "F8VaUucVctS-"
      },
      "outputs": [],
      "source": [
        "#Task 1.3\n",
        "from Bio.Seq import Seq\n",
        "# Create a DNA sequence (ok)\n",
        "#Note: Remember what you need to modify in the line below!\n",
        "dna_sequence = Seq(\"ATTTAGGATGAACTATGTGTGACAAATGGTGCCGTTGAGTCCTCTCAACTGGGAACGAGTCACCGTGTATCTGGAGACCATGTGTGTAACGGGTTGCACCTGCTTGGCTGGATACAAAGGTGGGATTTCTTTCTGTCTTTGTCATCTCTTAGCAGATTGTATCACATTTTGGCTTAATGCTTACTCAGTCATAAGACAAGTTTCTTTTAC\")\n",
        "\n",
        "# Perform translation to a part of the protein\n",
        "protein_sequence = dna_sequence.translate()\n",
        "# Print the protein sequence\n",
        "print('This is your protein sequence', protein_sequence)\n"
      ]
    },
    {
      "cell_type": "markdown",
      "source": [
        "# ✨ Remember to place the file \"my_sequnce.fasta\" into your sample_data folder from this repository https://github.com/bazyliszek/OsloMet2025 to /content/sample_data/ ✨"
      ],
      "metadata": {
        "id": "iIWz2iz3Dsf2"
      }
    },
    {
      "cell_type": "code",
      "execution_count": null,
      "metadata": {
        "id": "h6spZAuDoRjt"
      },
      "outputs": [],
      "source": [
        "from Bio import SeqIO\n",
        "\n",
        "# Specify the correct FASTA file path and make sure your file is there\n",
        "fasta_file = \"/content/sample_data/my_sequence.fasta\"\n",
        "#fasta_file = \"my_sequence.fasta\"\n",
        "\n",
        "# Read the FASTA file and extract the DNA sequence\n",
        "for record in SeqIO.parse(fasta_file, \"fasta\"):\n",
        "    dna_sequence = record.seq  # Extract the sequence as a Seq object\n",
        "\n",
        "    # Translate DNA to Protein\n",
        "    protein_sequence = dna_sequence.translate()\n",
        "\n",
        "    protein_string = str(protein_sequence)\n",
        "    proteins = protein_string.split(\"*\")\n",
        "    # Print the protein sequence\n",
        "    #print(f\"This is my protein sequence: {protein_sequence}\")\n",
        "    for protien in proteins:\n",
        "      print(protien)\n"
      ]
    },
    {
      "cell_type": "markdown",
      "metadata": {
        "id": "TFjUQWcbVjj7"
      },
      "source": [
        "# ✨ Task1.4 Find the 3D structure of your favorite genes using AlphaFold: https://alphafold.ebi.ac.uk/ ✨\n",
        "\n",
        "* How do you think these structures were derived? What is the model confidence for your protein?\" ✨\n",
        "* If you don't have a favorite protein yet, you can explore this one: https://alphafold.ebi.ac.uk/entry/Q9BY14.\" ✨\n",
        "* We have been particularly interested in TEX101. You can read more about it here: https://pubmed.ncbi.nlm.nih.gov/35774118/. ✨"
      ]
    },
    {
      "cell_type": "markdown",
      "metadata": {
        "id": "zZWQqiPJCAc-"
      },
      "source": [
        "# ✨ What is the purpose of sequence alignment? ✨\n",
        "* Describe this alignment in your own words to your colligue ✨"
      ]
    },
    {
      "cell_type": "code",
      "execution_count": null,
      "metadata": {
        "id": "3qTRA7-kcy-w"
      },
      "outputs": [],
      "source": [
        "from Bio import Align\n",
        "# Create a pairwise sequence aligner\n",
        "aligner = Align.PairwiseAligner()\n",
        "\n",
        "# Add sequences to align\n",
        "seq1 = \"ACGTTAGATCTTATT\"\n",
        "seq2 = \"TTAGGGAAAAAA\"\n",
        "alignments = aligner.align(seq1, seq2)\n",
        "\n",
        "# Print the alignments\n",
        "for alignment in alignments:\n",
        "    print(alignment)"
      ]
    },
    {
      "cell_type": "markdown",
      "metadata": {
        "id": "Vn0WpfRxq1V6"
      },
      "source": [
        "# ✨ Task1.5. Sequence Comparison Using Biopython: What is the match score between the sequences 'ATCGGTATTCA' and 'ATGGTCATTCA'? ✨"
      ]
    },
    {
      "cell_type": "code",
      "execution_count": null,
      "metadata": {
        "id": "XvzmbR7udB3A"
      },
      "outputs": [],
      "source": [
        "#Task1.5.\n",
        "from Bio import pairwise2\n",
        "from Bio.Seq import Seq\n",
        "\n",
        "# Create two DNA sequences\n",
        "seq1 = Seq(\"ATCGGTATTCA\")\n",
        "seq2 = Seq(\"ATGGTTTTTCA\") #\n",
        "\n",
        "# Perform pairwise sequence alignment\n",
        "alignments = pairwise2.align.globalxx(seq1, seq2)\n",
        "\n",
        "# Print the alignments\n",
        "for alignment in alignments:\n",
        "    print(pairwise2.format_alignment(*alignment))\n"
      ]
    },
    {
      "cell_type": "markdown",
      "metadata": {
        "id": "Y31zCLIVy7vZ"
      },
      "source": [
        "# ✨ ✨ ✨  **PART 2 DATABASES** ✨ ✨ ✨ ✨"
      ]
    },
    {
      "cell_type": "markdown",
      "metadata": {
        "id": "3t-vqoejrPLH"
      },
      "source": [
        "# ✨ Task2.1.  Access the NCBI database at https://www.ncbi.nlm.nih.gov/  ✨\n",
        "* What is the length of the sequence NC_000023.11? ✨"
      ]
    },
    {
      "cell_type": "code",
      "execution_count": null,
      "metadata": {
        "id": "pR98P9yywg2x"
      },
      "outputs": [],
      "source": [
        "#Task2.1.\n",
        "\n",
        "import sys\n",
        "# Import the Entrez module from Biopython for accessing NCBI databases\n",
        "from Bio import Entrez\n",
        "# Function to fetch genomic sequence using the provided accession number\n",
        "def fetch_genomic_sequence(accession):\n",
        "    Entrez.email = \"XX.XX@gmail.com\"  # Replace with your email address\n",
        "    # Set the email address to allow NCBI to contact you in case of any issues\n",
        "    handle = Entrez.efetch(db=\"nuccore\", id=accession, rettype=\"fasta\", retmode=\"text\")\n",
        "    # 'efetch' is used to fetch the sequence data from the \"nuccore\" database using the provided accession number.\n",
        "    # 'rettype=\"fasta\"' specifies that the data should be returned in FASTA format (sequence data).\n",
        "    # 'retmode=\"text\"' indicates that the data should be returned as a text string.\n",
        "    record = handle.read()  # Read the fetched sequence data\n",
        "    handle.close()  # Close the handle to release resources\n",
        "    return record  # Return the fetched genomic sequence as a string\n",
        "\n",
        "# Example usage\n",
        "genomic_accession = \"NC_000019.10\"  #Replace with the accession number of your genomic sequence of interest NC_000019.10\n",
        "sequence = fetch_genomic_sequence(genomic_accession)  # Call the function with the accession number to retrieve the sequence\n",
        "#print(sequence)  # Print the retrieved genomic sequence\n",
        "print(len(sequence))\n"
      ]
    },
    {
      "cell_type": "markdown",
      "metadata": {
        "id": "FdqW8wW9rfhq"
      },
      "source": [
        "# ✨ Task2.2.Retrieve the protein sequence and name for the protein with ID 'NP_000508'. ✨\n",
        "\n",
        " * What is the length of this protein? What is the name of the protein with ID 'P01308.1'? ✨"
      ]
    },
    {
      "cell_type": "code",
      "execution_count": null,
      "metadata": {
        "id": "_dkgf9ymwLZc"
      },
      "outputs": [],
      "source": [
        "#Task2.2.\n",
        "\n",
        "# Import the Entrez module from Biopython for accessing NCBI databases\n",
        "from Bio import Entrez\n",
        "\n",
        "# Function to fetch protein sequence using the provided accession number\n",
        "def fetch_protein_sequence(accession):\n",
        "    Entrez.email = \"xxx.xxx@gmail.com\"  # Replace with your email address\n",
        "    # Set the email address to allow NCBI to contact you in case of any issues\n",
        "    handle = Entrez.efetch(db=\"protein\", id=accession, rettype=\"fasta\", retmode=\"text\")\n",
        "    # 'efetch' is used to fetch the sequence data from the \"protein\" database using the provided accession number.\n",
        "    # 'rettype=\"fasta\"' specifies that the data should be returned in FASTA format (sequence data).\n",
        "    # 'retmode=\"text\"' indicates that the data should be returned as a text string.\n",
        "    record = handle.read()  # Read the fetched sequence data\n",
        "    handle.close()  # Close the handle to release resources\n",
        "    return record  # Return the fetched protein sequence as a string\n",
        "\n",
        "# Example usage\n",
        "protein_accession = \"NP_000508\"  # Replace with the accession number of your protein of interest\n",
        "sequence = fetch_protein_sequence(protein_accession)  # Call the function with the accession number to retrieve the sequence\n",
        "print(sequence)  # Print the retrieved protein sequence\n",
        "print(len(sequence))\n"
      ]
    },
    {
      "cell_type": "markdown",
      "metadata": {
        "id": "VkBKq5wbzGjA"
      },
      "source": [
        "# ✨ Task2.3  Analyze and explore the mRNA sequence ✨\n",
        "* To which species and gene does the mRNA ID 'NM_000518' belong? ✨\n",
        "* How many times has this sequence changed over time?? ✨"
      ]
    },
    {
      "cell_type": "code",
      "execution_count": null,
      "metadata": {
        "id": "yd5kmMB6w7C0"
      },
      "outputs": [],
      "source": [
        "#Task2.3\n",
        "# Import the Entrez module from Biopython for accessing NCBI databases\n",
        "\n",
        "from Bio import Entrez\n",
        "\n",
        "# Function to fetch mRNA sequence using the provided accession number\n",
        "def fetch_mrna_sequence(accession):\n",
        "    Entrez.email = \"marcin.bazyliszek@gmail.com\"  # Replace with your email address\n",
        "    # Set the email address to allow NCBI to contact you in case of any issues\n",
        "    handle = Entrez.efetch(db=\"nucleotide\", id=accession, rettype=\"fasta\", retmode=\"text\")\n",
        "    # 'efetch' is used to fetch the sequence data from the \"nucleotide\" database using the provided accession number.\n",
        "    # 'rettype=\"fasta\"' specifies that the data should be returned in FASTA format (sequence data).\n",
        "    # 'retmode=\"text\"' indicates that the data should be returned as a text string.\n",
        "    record = handle.read()  # Read the fetched sequence data\n",
        "    handle.close()  # Close the handle to release resources\n",
        "    return record  # Return the fetched mRNA sequence as a string\n",
        "\n",
        "# Example usage\n",
        "mrna_accession = \"NM_000518\"  # You can also replace with the accession number of your mRNA of interest\n",
        "sequence = fetch_mrna_sequence(mrna_accession)  # Call the function with the accession number to retrieve the sequence\n",
        "print(sequence)  # Print the retrieved mRNA sequence\n",
        "\n"
      ]
    },
    {
      "cell_type": "markdown",
      "source": [
        "# ✨ Task2.4 Can you analyze the differences between version 1 and version 5 of NM_000518? ✨"
      ],
      "metadata": {
        "id": "nix30pe9Hjeo"
      }
    },
    {
      "cell_type": "code",
      "execution_count": null,
      "metadata": {
        "id": "ghQ3Pivjw-HV"
      },
      "outputs": [],
      "source": [
        "# Task2.4\n",
        "mrna_accession_1 = \"NM_000518.1\"\n",
        "sequence_1 = fetch_mrna_sequence(mrna_accession)\n",
        "#print(sequence_1)\n",
        "print('The length of v1 is', len(sequence_1))\n",
        "\n",
        "mrna_accession_5 = \"NM_000518.5\"\n",
        "sequence_5 = fetch_mrna_sequence(mrna_accession_5)\n",
        "#print(sequence_5)\n",
        "print('The length of v5 is', len(sequence_5))\n",
        "\n",
        "from Bio import pairwise2\n",
        "from Bio.Seq import Seq\n",
        "alignments = pairwise2.align.globalxx(sequence_1, sequence_5)\n",
        "\n",
        "for alignment in alignments:\n",
        "    print(pairwise2.format_alignment(*alignment))\n",
        "    break\n",
        "\n"
      ]
    },
    {
      "cell_type": "markdown",
      "source": [
        "# ✨ Task2.5 Retrieve the genomic sequence for accession number 'NM_000518'. ✨\n",
        "\n",
        "* ✨ Which protein subunit does this sequence correspond to?\" ✨\n",
        "* ✨ Import the Entrez module from Biopython to access NCBI databases for 'NM_000518' ✨"
      ],
      "metadata": {
        "id": "Wp491dYMH9sH"
      }
    },
    {
      "cell_type": "code",
      "execution_count": null,
      "metadata": {
        "id": "xpgezr_Jyba0"
      },
      "outputs": [],
      "source": [
        "# Task2.5\n",
        "from Bio import Entrez\n",
        "# Function to fetch genomic sequence using the provided accession number\n",
        "def fetch_genomic_sequence(accession):\n",
        "    Entrez.email = \"marcin.bazyliszek@gmail.com\"  # Replace with your email address\n",
        "    # Set the email address to allow NCBI to contact you in case of any issues\n",
        "    handle = Entrez.efetch(db=\"nuccore\", id=accession, rettype=\"fasta\", retmode=\"text\")\n",
        "    # 'efetch' is used to fetch the sequence data from the \"nuccore\" database using the provided accession number.\n",
        "    # 'rettype=\"fasta\"' specifies that the data should be returned in FASTA format (sequence data).\n",
        "    # 'retmode=\"text\"' indicates that the data should be returned as a text string.\n",
        "    record = handle.read()  # Read the fetched sequence data\n",
        "    handle.close()  # Close the handle to release resources\n",
        "    return record  # Return the fetched genomic sequence as a string\n",
        "\n",
        "# Example usage\n",
        "genomic_accession = \"NM_000519\"  # Replace with the accession number of your genomic sequence of interest\n",
        "sequence = fetch_genomic_sequence(genomic_accession)  # Call the function with the accession number to retrieve the sequence\n",
        "print('This sequence is as following:', sequence)  # Print the retrieved genomic sequence\n",
        "print(len(sequence))"
      ]
    },
    {
      "cell_type": "markdown",
      "metadata": {
        "id": "TzgF2-Yo0kEA"
      },
      "source": [
        "# ✨ Task2.6 Structure Retrival of a protein from Protein Data Bank (PDB) ✨\n",
        "* How can you open and view a PDB file?"
      ]
    },
    {
      "cell_type": "code",
      "execution_count": null,
      "metadata": {
        "id": "YnmGv81FyiKr"
      },
      "outputs": [],
      "source": [
        "# Task2.6\n",
        "\n",
        "# Import the PDBList module from Biopython for accessing the Protein Data Bank (PDB)\n",
        "from Bio.PDB import PDBList\n",
        "\n",
        "# Function to fetch PDB structure using the provided PDB ID\n",
        "def fetch_pdb_structure(pdb_id):\n",
        "    pdbl = PDBList()\n",
        "    # Create a PDBList object to interact with the PDB database\n",
        "\n",
        "    pdbl.retrieve_pdb_file(pdb_id, file_format=\"pdb\", pdir=\"./\")\n",
        "    # Use the retrieve_pdb_file method to fetch the PDB structure with the given PDB ID\n",
        "    # 'file_format=\"pdb\"' specifies that the data should be returned in PDB format (structure data).\n",
        "    # 'pdir=\"./\"' indicates that the downloaded PDB file will be saved in the current directory.\n",
        "\n",
        "    pdb_filename = f\"pdb{pdb_id.lower()}.ent\"\n",
        "    # The downloaded PDB file will have a filename in the format \"pdbXXXX.ent\", where XXXX is the PDB ID in lowercase.\n",
        "\n",
        "    return pdb_filename  # Return the filename of the downloaded PDB structure\n",
        "\n",
        "\n",
        "# Example usage\n",
        "pdb_id = \"1CRN\"  # Replace with the PDB ID of the structure you want to retrieve (1CRN)\n",
        "pdb_filename = fetch_pdb_structure(pdb_id)  # Call the function with the PDB ID to retrieve the structure\n",
        "print(f\"PDB structure {pdb_id} downloaded as {pdb_filename}\")  # Print the filename of the downloaded PDB structure\n",
        "\n",
        "#Inspect the file that was created pdb1crn.ent Find out which software you should use for this?\n",
        "\n"
      ]
    },
    {
      "cell_type": "markdown",
      "source": [
        "# ✨ Task 2.7: Querying the Database for the TEX101 Gene   ✨\n",
        "* ✨ What are the other known synonyms for this gene?  ✨\n"
      ],
      "metadata": {
        "id": "YKJV1TkJI-Uw"
      }
    },
    {
      "cell_type": "code",
      "execution_count": null,
      "metadata": {
        "id": "7ftCCVuSyxjL"
      },
      "outputs": [],
      "source": [
        "# Task2.7\n",
        "# Import necessary modules from Biopython\n",
        "from Bio import Entrez, Medline, SeqIO\n",
        "\n",
        "# Set your email address for NCBI Entrez access\n",
        "Entrez.email = \"marcin.bazyliszek@gmail.com\" #use your email account\n",
        "\n",
        "# Use Entrez to retrieve information about available databases\n",
        "handle = Entrez.einfo()\n",
        "rec = Entrez.read(handle)\n",
        "print(rec)\n",
        "\n",
        "# Search for nucleotide sequences with gene name \"TEX101\" from \"Homo sapiens\" # was CRT and  Plasmodium falciparum\n",
        "handle = Entrez.esearch(db=\"nucleotide\", term='TEX101[Gene Name] AND \"Homo sapiens\"[Organism]')\n",
        "rec_list = Entrez.read(handle)\n",
        "\n",
        "# If there are more results than the default limit, fetch all results\n",
        "if int(rec_list['RetMax']) < int(rec_list['Count']):\n",
        "    handle = Entrez.esearch(db=\"nucleotide\", term='TEX101[Gene Name] AND \"Homo sapiens\"[Organism]',\n",
        "                            retmax=rec_list['Count'])\n",
        "    rec_list = Entrez.read(handle)\n",
        "\n",
        "# Retrieve the list of matching sequence IDs\n",
        "id_list = rec_list['IdList']\n",
        "\n",
        "# Fetch the records corresponding to the retrieved IDs in GenBank format\n",
        "hdl = Entrez.efetch(db='nucleotide', id=id_list, rettype='gb', retmax=rec_list['Count'])\n",
        "recs = list(SeqIO.parse(hdl, 'gb'))\n",
        "\n",
        "# Search for a specific sequence with name \"NM_001130011\"\n",
        "for rec in recs:\n",
        "    if rec.name == 'NM_001130011':  #was KM288867\n",
        "        break\n",
        "print(rec.name)\n",
        "print(rec.description)\n",
        "\n",
        "# Analyze sequence features\n",
        "for feature in rec.features:\n",
        "    if feature.type == 'gene':\n",
        "        print(feature.qualifiers['gene'])\n",
        "    elif feature.type == 'exon':\n",
        "        loc = feature.location\n",
        "        print('Exon', loc.start, loc.end, loc.strand)\n",
        "    else:\n",
        "        print('not processed:\\n%s' % feature)\n",
        "\n",
        "# Print annotations of the retrieved sequence\n",
        "for name, value in rec.annotations.items():\n",
        "    print('%s=%s' % (name, value))\n",
        "\n",
        "# Print the length of the sequence\n",
        "print(len(rec.seq))\n",
        "\n",
        "# Retrieve and display the references associated with the sequence\n",
        "refs = rec.annotations['references']\n",
        "print(refs)\n",
        "for ref in refs:\n",
        "    if ref.pubmed_id != '':\n",
        "        print(ref.pubmed_id)\n",
        "        handle = Entrez.efetch(db=\"pubmed\", id=[ref.pubmed_id],\n",
        "                                rettype=\"medline\", retmode=\"text\")\n",
        "        records = Medline.parse(handle)\n",
        "        for med_rec in records:\n",
        "            for k, v in med_rec.items():\n",
        "                print('%s: %s' % (k, v))\n",
        "\n"
      ]
    },
    {
      "cell_type": "markdown",
      "source": [
        "# ✨ Task2.8 Filtering retrieved sequenced data based on length ✨"
      ],
      "metadata": {
        "id": "2A1IxWaLJoYK"
      }
    },
    {
      "cell_type": "code",
      "execution_count": null,
      "metadata": {
        "id": "1XCuULxay3U3"
      },
      "outputs": [],
      "source": [
        "# Task2.8\n",
        "# Import the SeqIO module from Biopython for parsing sequence data from files\n",
        "from Bio import SeqIO\n",
        "\n",
        "# Function to filter sequences based on their length\n",
        "def filter_sequences_by_length(sequences, min_length):\n",
        "    filtered_sequences = []  # Create an empty list to store the filtered sequences\n",
        "    for sequence in sequences:\n",
        "        if len(sequence) >= min_length:\n",
        "            # Check if the length of the sequence is greater than or equal to the minimum length\n",
        "            # If the condition is met, add the sequence to the filtered_sequences list\n",
        "            filtered_sequences.append(sequence)\n",
        "    return filtered_sequences  # Return the list of filtered sequences\n",
        "\n",
        "# Example usage\n",
        "fasta_file = \"sequence.fasta\"  # Replace with the filename of your FASTA file containing sequences\n",
        "fasta_file = \"my_sequence.fasta\"  # Replace with the filename of your FASTA file containing sequences\n",
        "fasta_file = \"/content/sample_data/my_sequence.fasta\"\n",
        "\n",
        "# https://www.ncbi.nlm.nih.gov/nuccore/NM_001130011.3?report=fasta\n",
        "min_length = 100  # Set the minimum length for filtering sequences\n",
        "sequences = SeqIO.parse(fasta_file, \"fasta\")  # Parse the FASTA file to get a sequence iterator\n",
        "filtered_sequences = filter_sequences_by_length(sequences, min_length)  # Call the function to filter sequences\n",
        "for sequence in filtered_sequences:\n",
        "    print('My fasta file has following sequence', sequence)  # Print the filtered sequences\n"
      ]
    },
    {
      "cell_type": "markdown",
      "source": [
        "# ✨ Task 2.9 Reading and Writing:  ✨\n",
        "* What is the ID of the FASTQ file?  ✨\n",
        "* What is its length? ✨"
      ],
      "metadata": {
        "id": "8_yyNJGdJ_2-"
      }
    },
    {
      "cell_type": "code",
      "execution_count": null,
      "metadata": {
        "id": "CRJ_SjeHy6uq"
      },
      "outputs": [],
      "source": [
        "# Task2.9\n",
        "from Bio import SeqIO\n",
        "# Read sequences from a FASTA file\n",
        "#sequences = SeqIO.parse(\"sequence.fasta\", \"fasta\")\n",
        "sequences = SeqIO.parse(\"/content/sample_data/my_sequence.fasta\", \"fasta\")\n",
        "\n",
        "# Iterate over the sequences and print their IDs and lengths\n",
        "for sequence in sequences:\n",
        "    print(\"ID:\", sequence.id)\n",
        "    print(\"Length:\", len(sequence))\n",
        "\n"
      ]
    },
    {
      "cell_type": "markdown",
      "metadata": {
        "id": "GMazNf2U0DZ2"
      },
      "source": [
        "# ✨ ✨ ✨ ✨ ✨ ✨ **PART 3 - RNAseq analysis** ✨"
      ]
    },
    {
      "cell_type": "code",
      "execution_count": null,
      "metadata": {
        "id": "LFAPKfjV17NM"
      },
      "outputs": [],
      "source": [
        "!pip install pydeseq2\n",
        "#!pip install --upgrade numpy\n",
        "#https://pydeseq2.readthedocs.io/en/stable/\n",
        "#!pip install --upgrade scikit-learn==1.3.0 scanpy==1.9.3"
      ]
    },
    {
      "cell_type": "markdown",
      "metadata": {
        "id": "WQvcpvBs26v9"
      },
      "source": [
        "# ✨ Task3.1. What is the dimation of the raw imported count object?  ✨\n",
        "* Remember to upload the correct file in right direction ✨\n",
        "* What is ENSG00000271254?\n",
        "* The file you need you can find it here # https://github.com/bazyliszek/OsloMet2025  ✨"
      ]
    },
    {
      "cell_type": "code",
      "execution_count": null,
      "metadata": {
        "id": "DQzQ8wUC3CS7"
      },
      "outputs": [],
      "source": [
        "import sys\n",
        "from pydeseq2.dds import DeseqDataSet\n",
        "import pandas as pd\n",
        "from pydeseq2.ds import DeseqStats\n",
        "\n",
        "counts = pd.read_csv('/content/sample_data/2025_count_table_for_deseq_example.csv')\n",
        "#counts = pd.read_csv('2025_count_table_for_deseq_example.csv')\n",
        "print(counts)"
      ]
    },
    {
      "cell_type": "code",
      "execution_count": null,
      "metadata": {
        "id": "Zrt9I4Nc3NPi"
      },
      "outputs": [],
      "source": [
        "counts = counts.set_index('Geneid')\n",
        "print(counts)"
      ]
    },
    {
      "cell_type": "markdown",
      "source": [
        "# ✨ Task3.2. What is the dimation of the the count object with count more than 0?"
      ],
      "metadata": {
        "id": "eo0K7ofpLHrx"
      }
    },
    {
      "cell_type": "code",
      "execution_count": null,
      "metadata": {
        "id": "mZvN7ZAh3Sv5"
      },
      "outputs": [],
      "source": [
        "counts = counts[counts.sum(axis=1) > 0]\n",
        "print(counts)"
      ]
    },
    {
      "cell_type": "code",
      "execution_count": null,
      "metadata": {
        "id": "d1niviBI3Zc1"
      },
      "outputs": [],
      "source": [
        "counts = counts.T # transformation\n",
        "print(counts)"
      ]
    },
    {
      "cell_type": "markdown",
      "source": [
        " # ✨ Task3.3. Which contrast you can make in this experiment ✨"
      ],
      "metadata": {
        "id": "0b25K1yWLn1B"
      }
    },
    {
      "cell_type": "code",
      "execution_count": null,
      "metadata": {
        "id": "qX09JKW13bVE"
      },
      "outputs": [],
      "source": [
        "metadata = pd.DataFrame(zip(counts.index, ['C', 'C', 'C', 'C', 'RS', 'RS', 'RS', 'RS']), columns=['Sample', 'Condition'])\n",
        "metadata = metadata.set_index('Sample')\n",
        "print(metadata)"
      ]
    },
    {
      "cell_type": "markdown",
      "source": [
        "# ✨ This object stores the raw count data, metadata (sample information), and the experimental design. ✨\n",
        "\n",
        "* counts=counts: Provides the raw count matrix (gene expression values for each sample).\n",
        "* metadata=metadata: Supplies sample metadata, which includes conditions or other experimental factors.\n",
        "* design_factors=\"Condition\": Specifies that \"Condition\" is the factor of interest (e.g., control vs. treated samples) for differential expression analysis."
      ],
      "metadata": {
        "id": "m7CvblNLMDmV"
      }
    },
    {
      "cell_type": "code",
      "execution_count": null,
      "metadata": {
        "id": "qtkqx0oq3ffg"
      },
      "outputs": [],
      "source": [
        "dds = DeseqDataSet(counts=counts, metadata=metadata, design_factors=\"Condition\")\n",
        "dds.deseq2()\n",
        "print(dds)"
      ]
    },
    {
      "cell_type": "markdown",
      "source": [
        "# ✨ Purpose in RNA-Seq Analysis ✨\n",
        "\n",
        "* ✨ This dataset (dds) is used in differential gene expression analysis to compare expression levels between conditions (e.g., treated vs. control). ✨\n",
        "* ✨ It is then normalized and tested for statistically significant changes in expression. ✨"
      ],
      "metadata": {
        "id": "3SCK2DzvMe-z"
      }
    },
    {
      "cell_type": "code",
      "execution_count": null,
      "metadata": {
        "id": "8rue1-B83oj8"
      },
      "outputs": [],
      "source": [
        "stat_res = DeseqStats(dds, contrast=['Condition', 'RS', 'C'])\n",
        "#make summary statistics\n",
        "stat_res.summary()"
      ]
    },
    {
      "cell_type": "code",
      "execution_count": null,
      "metadata": {
        "id": "0RcAfCnc3uoH"
      },
      "outputs": [],
      "source": [
        "res = stat_res.results_df\n",
        "print(res)"
      ]
    },
    {
      "cell_type": "markdown",
      "source": [
        "# # ✨ Create a Volcano Plot with a Log2 Fold Change Threshold of 2 and alpha of 0.01 ✨\n",
        "* Explain this graph ✨\n",
        "* How to show names of the genes that are differentially expressed?"
      ],
      "metadata": {
        "id": "3wM5UbP_N9IB"
      }
    },
    {
      "cell_type": "code",
      "source": [
        "import pandas as pd\n",
        "\n",
        "# Extract DESeq2 results as a DataFrame\n",
        "results_df = stat_res.results_df\n",
        "\n",
        "# Display first few rows\n",
        "results_df.head()\n",
        "\n",
        "\n",
        "# Define significance thresholds\n",
        "alpha = 0.05  # Adjusted p-value threshold\n",
        "log2fc_threshold = 1  # Fold change threshold\n",
        "\n",
        "# Add a column for significance\n",
        "results_df[\"Significance\"] = \"Not Significant\"\n",
        "results_df.loc[\n",
        "    (results_df[\"padj\"] < alpha) & (results_df[\"log2FoldChange\"] > log2fc_threshold), \"Significance\"\n",
        "] = \"Upregulated\"\n",
        "results_df.loc[\n",
        "    (results_df[\"padj\"] < alpha) & (results_df[\"log2FoldChange\"] < -log2fc_threshold), \"Significance\"\n",
        "] = \"Downregulated\"\n",
        "\n",
        "import matplotlib.pyplot as plt\n",
        "import seaborn as sns\n",
        "import numpy as np\n",
        "\n",
        "# Convert p-values to -log10(padj) for better visualization\n",
        "results_df[\"-log10(padj)\"] = -np.log10(results_df[\"padj\"])\n",
        "\n",
        "# Create the Volcano plot\n",
        "plt.figure(figsize=(10, 6))\n",
        "sns.scatterplot(\n",
        "    x=results_df[\"log2FoldChange\"],\n",
        "    y=results_df[\"-log10(padj)\"],\n",
        "    hue=results_df[\"Significance\"],\n",
        "    palette={\"Upregulated\": \"red\", \"Downregulated\": \"blue\", \"Not Significant\": \"gray\"},\n",
        "    alpha=0.7\n",
        ")\n",
        "\n",
        "# Add axis labels and title\n",
        "plt.axhline(y=-np.log10(alpha), color=\"black\", linestyle=\"--\", linewidth=1)  # Significance threshold\n",
        "plt.axvline(x=log2fc_threshold, color=\"black\", linestyle=\"--\", linewidth=1)  # Fold change threshold\n",
        "plt.axvline(x=-log2fc_threshold, color=\"black\", linestyle=\"--\", linewidth=1)\n",
        "\n",
        "plt.xlabel(\"Log2 Fold Change\")\n",
        "plt.ylabel(\"-Log10 Adjusted P-value\")\n",
        "plt.title(\"Volcano Plot of Differentially Expressed Genes\")\n",
        "plt.legend(title=\"Significance\")\n",
        "\n",
        "# Label significant genes\n",
        "#for i, row in results_df.iterrows():\n",
        "#    if row[\"Significance\"] in [\"Upregulated\", \"Downregulated\"]:\n",
        "#        plt.text(row[\"log2FoldChange\"], row[\"-log10(padj)\"], row[\"Symbol\"], fontsize=8, ha='right') #row.name\n",
        "\n",
        "#plt.show()\n"
      ],
      "metadata": {
        "id": "TncOQyK3NH6v"
      },
      "execution_count": null,
      "outputs": []
    },
    {
      "cell_type": "code",
      "execution_count": null,
      "metadata": {
        "id": "pBFILMk44Ol2"
      },
      "outputs": [],
      "source": [
        "!pip install sanbomics"
      ]
    },
    {
      "cell_type": "code",
      "execution_count": 31,
      "metadata": {
        "id": "i6_KhPz44R2e"
      },
      "outputs": [],
      "source": [
        "from sanbomics.tools import id_map\n",
        "mapper = id_map(species='human')\n",
        "res['Symbol'] = res.index.map(mapper.mapper)\n",
        "res = res[res.baseMean >= 10]"
      ]
    },
    {
      "cell_type": "code",
      "execution_count": null,
      "metadata": {
        "id": "Ck1zgMcy4W0u"
      },
      "outputs": [],
      "source": [
        "print(res)"
      ]
    },
    {
      "cell_type": "code",
      "execution_count": null,
      "metadata": {
        "id": "Q9QYjYtS4Zq4"
      },
      "outputs": [],
      "source": [
        "sigs = res[(res.padj < 0.05) & (abs(res.log2FoldChange) > 0.5)]\n",
        "print(sigs)"
      ]
    },
    {
      "cell_type": "code",
      "source": [
        "# Filter significant genes (padj < 0.01 and |log2FC| > 0.5)\n",
        "sigs = res[(res.padj < 0.01) & (abs(res.log2FoldChange) > 0.5)]\n",
        "\n",
        "# Sort by absolute log2 fold change in descending order\n",
        "sigs_sorted = sigs.sort_values(by=\"log2FoldChange\", key=abs, ascending=False)\n",
        "\n",
        "# Display the top results\n",
        "sigs_sorted.head()\n"
      ],
      "metadata": {
        "id": "mNYrp2-ePPOD"
      },
      "execution_count": null,
      "outputs": []
    },
    {
      "cell_type": "code",
      "execution_count": null,
      "metadata": {
        "id": "GtgR6aiK4ibv"
      },
      "outputs": [],
      "source": [
        "!pip install scanpy\n",
        "#!pip install --user scanpy\n",
        "#!pip install --upgrade numpy scikit-learn scanpy\n",
        "#!pip install --upgrade scikit-learn==1.3.0 scanpy==1.9.3"
      ]
    },
    {
      "cell_type": "code",
      "source": [
        "!pip install -U scikit-learn ##This works after instaltion   scikit-learn ✨✨✨✨"
      ],
      "metadata": {
        "id": "bJYvFEwqQhDH"
      },
      "execution_count": null,
      "outputs": []
    },
    {
      "cell_type": "code",
      "execution_count": null,
      "metadata": {
        "id": "DnQpEmvu4dFn"
      },
      "outputs": [],
      "source": [
        "import scanpy as sc\n",
        "\n",
        "sc.tl.pca(dds)\n",
        "sc.pl.pca(dds, color='Condition', size=300)\n",
        "\n",
        "#import scanpy as sc\n",
        "#sc.tl.pca(dds, svd_solver='arpack')\n",
        "#sc.pl.pca(dds, color='Condition', size=200)"
      ]
    },
    {
      "cell_type": "markdown",
      "source": [
        "# ✨ Generate and visualize a clustering analysis ✨"
      ],
      "metadata": {
        "id": "2w9338ugQt8O"
      }
    },
    {
      "cell_type": "code",
      "execution_count": null,
      "metadata": {
        "id": "6e5iD5Lm4pDH"
      },
      "outputs": [],
      "source": [
        "import numpy as np\n",
        "import seaborn as sns\n",
        "dds.layers['normed_counts']\n",
        "dds.layers['log1p'] = np.log1p(dds.layers['normed_counts'])\n",
        "dds.layers['log1p']\n",
        "\n",
        "print(sigs)\n",
        "dds_sigs = dds[:, sigs.index]\n",
        "print(dds_sigs)\n",
        "\n",
        "grapher = pd.DataFrame(dds_sigs.layers['log1p'].T, index=dds_sigs.var_names, columns=dds_sigs.obs_names)\n",
        "sns.clustermap(grapher, z_score=0, cmap = 'RdYlBu_r')"
      ]
    },
    {
      "cell_type": "markdown",
      "source": [
        "# Which genes distinguish these 2 condition?"
      ],
      "metadata": {
        "id": "A3OqPwBWnQo1"
      }
    },
    {
      "cell_type": "markdown",
      "metadata": {
        "id": "Ohq_Z0_5sngk"
      },
      "source": [
        "# ✨✨✨  Part IV - Single cell RNA ✨✨"
      ]
    },
    {
      "cell_type": "markdown",
      "source": [
        "The data used in this basic preprocessing and clustering tutorial was collected from bone marrow mononuclear cells of healthy human donors and was part of openproblem’s NeurIPS 2021 benchmarking dataset [Luecken et al., 2021]. The samples used in this tutorial were measured using the 10X Multiome Gene Expression and Chromatin Accessability kit. credits scanpy.readthedocs.io/en/stable/tutorials/basics/clustering.htm"
      ],
      "metadata": {
        "id": "NIJxgK2xicbr"
      }
    },
    {
      "cell_type": "code",
      "execution_count": null,
      "metadata": {
        "id": "fySFqvqI0atS"
      },
      "outputs": [],
      "source": [
        "# Install Core scverse libraries\n",
        "!pip install -U scikit-learn\n",
        "!pip install scanpy\n",
        "!pip install pooch"
      ]
    },
    {
      "cell_type": "code",
      "execution_count": 3,
      "metadata": {
        "id": "3NU1BuwmsnHU"
      },
      "outputs": [],
      "source": [
        "# Core scverse libraries\n",
        "import scanpy as sc\n",
        "import anndata as ad\n",
        "\n",
        "# Data retrieval\n",
        "import pooch"
      ]
    },
    {
      "cell_type": "code",
      "execution_count": 4,
      "metadata": {
        "id": "N6Ux82kwsv3N"
      },
      "outputs": [],
      "source": [
        "sc.settings.set_figure_params(dpi=50, facecolor=\"white\")"
      ]
    },
    {
      "cell_type": "markdown",
      "source": [
        "✨ We are reading in the count matrix into an AnnData object, which holds many slots for annotations and different representations of the data."
      ],
      "metadata": {
        "id": "cuKP67tSXXfS"
      }
    },
    {
      "cell_type": "code",
      "execution_count": 5,
      "metadata": {
        "id": "9PLAcIWbsw3U"
      },
      "outputs": [],
      "source": [
        "EXAMPLE_DATA = pooch.create(\n",
        "    path=pooch.os_cache(\"scverse_tutorials\"),\n",
        "    base_url=\"doi:10.6084/m9.figshare.22716739.v1/\",\n",
        ")\n",
        "EXAMPLE_DATA.load_registry_from_doi()"
      ]
    },
    {
      "cell_type": "code",
      "execution_count": null,
      "metadata": {
        "id": "dgPqdPdDs2qS"
      },
      "outputs": [],
      "source": [
        "samples = {\n",
        "    \"s1d1\": \"s1d1_filtered_feature_bc_matrix.h5\",\n",
        "    \"s1d3\": \"s1d3_filtered_feature_bc_matrix.h5\",\n",
        "}\n",
        "adatas = {}\n",
        "\n",
        "for sample_id, filename in samples.items():\n",
        "    path = EXAMPLE_DATA.fetch(filename)\n",
        "    sample_adata = sc.read_10x_h5(path)\n",
        "    sample_adata.var_names_make_unique()\n",
        "    adatas[sample_id] = sample_adata\n",
        "\n",
        "adata = ad.concat(adatas, label=\"sample\")\n",
        "adata.obs_names_make_unique()\n",
        "print(adata.obs[\"sample\"].value_counts())\n",
        "adata"
      ]
    },
    {
      "cell_type": "markdown",
      "source": [
        "✨ The data contains ~8,000 cells per sample and 36,601 measured genes. We’ll now investigate these with a basic preprocessing and clustering workflow."
      ],
      "metadata": {
        "id": "mw5g3JWnXoHU"
      }
    },
    {
      "cell_type": "markdown",
      "source": [
        "# ✨ Quality Control\n",
        "* The scanpy function calculate_qc_metrics() calculates common quality control (QC) metrics, which are largely based on calculateQCMetrics from scater [McCarthy et al., 2017]. One can pass specific gene population to calculate_qc_metrics() in order to calculate proportions of counts for these populations. Mitochondrial, ribosomal and hemoglobin genes are defined by distinct prefixes as listed below."
      ],
      "metadata": {
        "id": "01lKkP4WXytG"
      }
    },
    {
      "cell_type": "code",
      "execution_count": 7,
      "metadata": {
        "id": "MD1FePWOtNme"
      },
      "outputs": [],
      "source": [
        "# mitochondrial genes, \"MT-\" for human, \"Mt-\" for mouse\n",
        "adata.var[\"mt\"] = adata.var_names.str.startswith(\"MT-\")\n",
        "# ribosomal genes\n",
        "adata.var[\"ribo\"] = adata.var_names.str.startswith((\"RPS\", \"RPL\"))\n",
        "# hemoglobin genes\n",
        "adata.var[\"hb\"] = adata.var_names.str.contains(\"^HB[^(P)]\")"
      ]
    },
    {
      "cell_type": "code",
      "execution_count": 8,
      "metadata": {
        "id": "t3mE_WQotQt0"
      },
      "outputs": [],
      "source": [
        "sc.pp.calculate_qc_metrics(\n",
        "    adata, qc_vars=[\"mt\", \"ribo\", \"hb\"], inplace=True, log1p=True\n",
        ")"
      ]
    },
    {
      "cell_type": "markdown",
      "source": [
        "✨ One can now inspect violin plots of some of the computed QC metrics:\n",
        "* the number of genes expressed in the count matrix\n",
        "* the total counts per cell\n",
        "* the percentage of counts in mitochondrial genes\n"
      ],
      "metadata": {
        "id": "4Y9h52ztYFR0"
      }
    },
    {
      "cell_type": "code",
      "execution_count": null,
      "metadata": {
        "id": "Bkb0gyC0tbmz"
      },
      "outputs": [],
      "source": [
        "sc.pl.violin(\n",
        "    adata,\n",
        "    [\"n_genes_by_counts\", \"total_counts\", \"pct_counts_mt\"],\n",
        "    jitter=0.4,\n",
        "    multi_panel=True,\n",
        ")"
      ]
    },
    {
      "cell_type": "markdown",
      "metadata": {
        "id": "U0JK_KmZsmR6"
      },
      "source": [
        "✨ Additionally, it is useful to consider QC metrics jointly by inspecting a scatter plot colored by pct_counts_mt."
      ]
    },
    {
      "cell_type": "code",
      "execution_count": null,
      "metadata": {
        "id": "_y-8fxwYtglO"
      },
      "outputs": [],
      "source": [
        "sc.pl.scatter(adata, \"total_counts\", \"n_genes_by_counts\", color=\"pct_counts_mt\")"
      ]
    },
    {
      "cell_type": "markdown",
      "source": [
        "✨ Based on the QC metric plots, one could now remove cells that have too many mitochondrial genes expressed or too many total counts by setting manual or automatic thresholds. However, sometimes what appears to be poor QC metrics can be driven by real biology so we suggest starting with a very permissive filtering strategy and revisiting it at a later point.\n",
        "* We therefore now only filter cells with less than 100 genes expressed and genes that are detected in less than 3 cells.\n",
        "\n",
        "* Additionally, it is important to note that for datasets with multiple batches, quality control should be performed for each sample individually as quality control thresholds can very substantially between batches."
      ],
      "metadata": {
        "id": "wXulKRdeYig6"
      }
    },
    {
      "cell_type": "code",
      "execution_count": 11,
      "metadata": {
        "id": "-q_7dVZutoF8"
      },
      "outputs": [],
      "source": [
        "sc.pp.filter_cells(adata, min_genes=100)\n",
        "sc.pp.filter_genes(adata, min_cells=3)"
      ]
    },
    {
      "cell_type": "markdown",
      "source": [
        "# ✨ Doublet detection\n",
        "As a next step, we run a doublet detection algorithm. Identifying doublets is crucial as they can lead to misclassifications or distortions in downstream analysis steps. Scanpy contains the doublet detection method Scrublet [Wolock et al., 2019]. Scrublet predicts cell doublets using a nearest-neighbor classifier of observed transcriptomes and simulated doublets. scanpy.pp.scrublet() adds doublet_score and predicted_doublet to .obs. One can now either filter directly on predicted_doublet or use the doublet_score later during clustering to filter clusters with high doublet scores."
      ],
      "metadata": {
        "id": "pD8FLG5NYebE"
      }
    },
    {
      "cell_type": "code",
      "execution_count": 12,
      "metadata": {
        "id": "mZ0dZgeMtqH2"
      },
      "outputs": [],
      "source": [
        "sc.pp.scrublet(adata, batch_key=\"sample\")"
      ]
    },
    {
      "cell_type": "markdown",
      "source": [
        "✨ We can remove doublets by either filtering out the cells called as doublets, or waiting until we’ve done a clustering pass and filtering out any clusters with high doublet scores."
      ],
      "metadata": {
        "id": "V2W4W8FiZDlD"
      }
    },
    {
      "cell_type": "markdown",
      "source": [
        "# ✨ Normalization\n",
        "✨ The next preprocessing step is normalization. A common approach is count depth scaling with subsequent log plus one (log1p) transformation. Count depth scaling normalizes the data to a “size factor” such as the median count depth in the dataset, ten thousand (CP10k) or one million (CPM, counts per million). The size factor for count depth scaling can be controlled via target_sum in pp.normalize_total. We are applying median count depth normalization with log1p transformation (AKA log1PF)."
      ],
      "metadata": {
        "id": "ddgUMSCVZKtb"
      }
    },
    {
      "cell_type": "code",
      "execution_count": 13,
      "metadata": {
        "id": "fcimFZ1gt4SP"
      },
      "outputs": [],
      "source": [
        "5# Saving count data\n",
        "adata.layers[\"counts\"] = adata.X.copy()"
      ]
    },
    {
      "cell_type": "code",
      "execution_count": 14,
      "metadata": {
        "id": "2mzj0j0Bskcj"
      },
      "outputs": [],
      "source": [
        "# Normalizing to median total counts\n",
        "sc.pp.normalize_total(adata)\n",
        "# Logarithmize the data\n",
        "sc.pp.log1p(adata)"
      ]
    },
    {
      "cell_type": "markdown",
      "source": [
        "# ✨ Feature selection\n",
        "✨ As a next step, we want to reduce the dimensionality of the dataset and only include the most informative genes. This step is commonly known as feature selection. The scanpy function pp.highly_variable_genes annotates highly variable genes by reproducing the implementations of Seurat [Satija et al., 2015], Cell Ranger [Zheng et al., 2017], and Seurat v3 [Stuart et al., 2019] depending on the chosen flavor."
      ],
      "metadata": {
        "id": "8hJEMwEXZahX"
      }
    },
    {
      "cell_type": "code",
      "execution_count": 15,
      "metadata": {
        "id": "QydY15orvFk-"
      },
      "outputs": [],
      "source": [
        "sc.pp.highly_variable_genes(adata, n_top_genes=2000, batch_key=\"sample\")"
      ]
    },
    {
      "cell_type": "code",
      "execution_count": null,
      "metadata": {
        "id": "-4dSYdddvGcv"
      },
      "outputs": [],
      "source": [
        "sc.pl.highly_variable_genes(adata)"
      ]
    },
    {
      "cell_type": "markdown",
      "source": [
        "# ✨ Dimensionality Reduction\n",
        "✨ Reduce the dimensionality of the data by running principal component analysis (PCA), which reveals the main axes of variation and denoises the data."
      ],
      "metadata": {
        "id": "WzscATSUZjvE"
      }
    },
    {
      "cell_type": "code",
      "execution_count": 17,
      "metadata": {
        "id": "7dKPc4RTvVdP"
      },
      "outputs": [],
      "source": [
        "sc.tl.pca(adata)"
      ]
    },
    {
      "cell_type": "markdown",
      "source": [
        " ✨ Let us inspect the contribution of single PCs to the total variance in the data. This gives us information about how many PCs we should consider in order to compute the neighborhood relations of cells, e.g. used in the clustering function leiden() or tsne(). In our experience, there does not seem to be signifigant downside to overestimating the numer of principal components."
      ],
      "metadata": {
        "id": "r7vcCWz0Zs7p"
      }
    },
    {
      "cell_type": "code",
      "execution_count": null,
      "metadata": {
        "id": "nS-LET_KvZwl"
      },
      "outputs": [],
      "source": [
        "sc.pl.pca_variance_ratio(adata, n_pcs=50, log=True)"
      ]
    },
    {
      "cell_type": "markdown",
      "source": [
        "✨ You can also plot the principal components to see if there are any potentially undesired features (e.g. batch, QC metrics) driving signifigant variation in this dataset. In this case, there isn’t anything too alarming, but it’s a good idea to explore this."
      ],
      "metadata": {
        "id": "itICsF5_Z_cP"
      }
    },
    {
      "cell_type": "code",
      "execution_count": null,
      "metadata": {
        "id": "gFx42kwova_1"
      },
      "outputs": [],
      "source": [
        "sc.pl.pca(\n",
        "    adata,\n",
        "    color=[\"sample\", \"sample\", \"pct_counts_mt\", \"pct_counts_mt\"],\n",
        "    dimensions=[(0, 1), (2, 3), (0, 1), (2, 3)],\n",
        "    ncols=2,\n",
        "    size=2,\n",
        ")"
      ]
    },
    {
      "cell_type": "markdown",
      "source": [
        "#✨ Nearest neighbor graph constuction and visualization\n",
        "* Let us compute the neighborhood graph of cells using the PCA representation of the data matrix.\n"
      ],
      "metadata": {
        "id": "Lf9GcmpYZol_"
      }
    },
    {
      "cell_type": "code",
      "execution_count": 20,
      "metadata": {
        "id": "NXO9lVyqvdog"
      },
      "outputs": [],
      "source": [
        "sc.pp.neighbors(adata)"
      ]
    },
    {
      "cell_type": "markdown",
      "source": [
        "✨ This graph can then be embedded in two dimensions for visualiztion with UMAP (McInnes et al., 2018):"
      ],
      "metadata": {
        "id": "L4URQgssa_oP"
      }
    },
    {
      "cell_type": "code",
      "execution_count": 21,
      "metadata": {
        "id": "uuWnJiBYvi8o"
      },
      "outputs": [],
      "source": [
        "sc.tl.umap(adata)"
      ]
    },
    {
      "cell_type": "markdown",
      "source": [
        "✨ We can now visualize the UMAP according to the sample. ✨"
      ],
      "metadata": {
        "id": "7rm0lmEIbDaB"
      }
    },
    {
      "cell_type": "code",
      "execution_count": null,
      "metadata": {
        "id": "tzqbMRQKvofj"
      },
      "outputs": [],
      "source": [
        "sc.pl.umap(\n",
        "    adata,\n",
        "    color=\"sample\",\n",
        "    # Setting a smaller point size to get prevent overlap\n",
        "    size=2,\n",
        ")"
      ]
    },
    {
      "cell_type": "markdown",
      "source": [
        "✨ Even though the data considered in this tutorial includes two different samples, we only observe a minor batch effect and we can continue with clustering and annotation of our data.\n",
        "\n",
        "✨ If you inspect batch effects in your UMAP it can be beneficial to integrate across samples and perform batch correction/integration."
      ],
      "metadata": {
        "id": "CKrMlPkjbJGS"
      }
    },
    {
      "cell_type": "markdown",
      "source": [
        "# ✨  Clustering\n",
        "✨  As with Seurat and many other frameworks, we recommend the Leiden graph-clustering method (community detection based on optimizing modularity) [Traag et al., 2019]. Note that Leiden clustering directly clusters the neighborhood graph of cells, which we already computed in the previous section."
      ],
      "metadata": {
        "id": "dWahxh97bNaL"
      }
    },
    {
      "cell_type": "code",
      "execution_count": null,
      "metadata": {
        "id": "Hqe6Hb1Pv31o"
      },
      "outputs": [],
      "source": [
        "!pip install igraph"
      ]
    },
    {
      "cell_type": "code",
      "execution_count": 26,
      "metadata": {
        "id": "zUrk3uYSvrDJ"
      },
      "outputs": [],
      "source": [
        "# Using the igraph implementation and a fixed number of iterations can be significantly faster, especially for larger datasets\n",
        "sc.tl.leiden(adata, flavor=\"igraph\", n_iterations=2)"
      ]
    },
    {
      "cell_type": "code",
      "execution_count": null,
      "metadata": {
        "id": "6f2yBYi4wA1O"
      },
      "outputs": [],
      "source": [
        "sc.pl.umap(adata, color=[\"leiden\"])"
      ]
    },
    {
      "cell_type": "markdown",
      "source": [
        "# ✨  Re-assess quality control and cell filtering\n",
        "* As indicated before, we will now re-assess our filtering strategy by visualizing different QC metrics using UMAP. ✨"
      ],
      "metadata": {
        "id": "-A3LSQu9bTk4"
      }
    },
    {
      "cell_type": "code",
      "execution_count": null,
      "metadata": {
        "id": "r3_toHocwC9M"
      },
      "outputs": [],
      "source": [
        "sc.pl.umap(\n",
        "    adata,\n",
        "    color=[\"leiden\", \"predicted_doublet\", \"doublet_score\"],\n",
        "    # increase horizontal space between panels\n",
        "    wspace=0.5,\n",
        "    size=3,\n",
        ")"
      ]
    },
    {
      "cell_type": "code",
      "execution_count": null,
      "metadata": {
        "id": "a-2FlmOlwGwL"
      },
      "outputs": [],
      "source": [
        "sc.pl.umap(\n",
        "    adata,\n",
        "    color=[\"leiden\", \"log1p_total_counts\", \"pct_counts_mt\", \"log1p_n_genes_by_counts\"],\n",
        "    wspace=0.5,\n",
        "    ncols=2,\n",
        ")"
      ]
    },
    {
      "cell_type": "markdown",
      "source": [
        "# ✨  Manual cell-type annotation ✨\n",
        "\n",
        "Cell type annotation is laborous and repetitive task, one which typically requires multiple rounds of subclustering and re-annotation. It is difficult to show the entirety of the process in this tutorial, but we aim to show how the tools scanpy provides assist in this process.\n",
        "\n",
        "We have now reached a point where we have obtained a set of cells with decent quality, and we can proceed to their annotation to known cell types. Typically, this is done using genes that are exclusively expressed by a given cell type, or in other words these genes are the marker genes of the cell types, and are thus used to distinguish the heterogeneous groups of cells in our data. Previous efforts have collected and curated various marker genes into available resources, such as CellMarker, TF-Marker, and PanglaoDB. The cellxgene gene expression tool can also be quite useful to see which cell types a gene has been expressed in across many existing datasets.\n",
        "\n",
        "Commonly and classically, cell type annotation uses those marker genes subsequent to the grouping of the cells into clusters. So, let’s generate a set of clustering solutions which we can then use to annotate our cell types. Here, we will use the Leiden clustering algorithm which will extract cell communities from our nearest neighbours graph."
      ],
      "metadata": {
        "id": "cSu7NKVibfcV"
      }
    },
    {
      "cell_type": "code",
      "execution_count": 30,
      "metadata": {
        "id": "-9aAmrrhwQL-"
      },
      "outputs": [],
      "source": [
        "for res in [0.02, 0.5, 2.0]:\n",
        "    sc.tl.leiden(\n",
        "        adata, key_added=f\"leiden_res_{res:4.2f}\", resolution=res, flavor=\"igraph\"\n",
        "    )"
      ]
    },
    {
      "cell_type": "markdown",
      "source": [
        "✨  Notably, the number of clusters that we define is largely arbitrary, and so is the resolution parameter that we use to control for it. As such, the number of clusters is ultimately bound to the stable and biologically-meaningful groups that we can ultimately distringuish, typically done by experts in the corresponding field or by using expert-curated prior knowledge in the form of markers."
      ],
      "metadata": {
        "id": "lZm8ifkfbofM"
      }
    },
    {
      "cell_type": "code",
      "execution_count": null,
      "metadata": {
        "id": "8_rwAYyIwRqX"
      },
      "outputs": [],
      "source": [
        "sc.pl.umap(\n",
        "    adata,\n",
        "    color=[\"leiden_res_0.02\", \"leiden_res_0.50\", \"leiden_res_2.00\"],\n",
        "    legend_loc=\"on data\",\n",
        ")"
      ]
    },
    {
      "cell_type": "code",
      "execution_count": null,
      "metadata": {
        "id": "ckKWZPhpwWJT"
      },
      "outputs": [],
      "source": [
        "sc.pl.umap(\n",
        "    adata,\n",
        "    color=[\"leiden_res_0.02\", \"leiden_res_0.50\", \"leiden_res_2.00\"],\n",
        "    legend_loc=\"on data\",\n",
        ")"
      ]
    },
    {
      "cell_type": "markdown",
      "source": [
        "✨  Though UMAPs should not be over-interpreted, here we can already see that in the highest resolution our data is over-clustered, while the lowest resolution is likely grouping cells which belong to distinct cell identities."
      ],
      "metadata": {
        "id": "iPHm2URebscV"
      }
    },
    {
      "cell_type": "markdown",
      "source": [
        "# ✨  Marker gene set\n",
        " ✨ Let’s define a set of marker genes for the main cell types that we expect to see in this dataset. These were adapted from Single Cell Best Practices annotation chapter, for a more detailed overview and best practices in cell type annotation, we refer the user to it."
      ],
      "metadata": {
        "id": "MRSwC9OUbtsB"
      }
    },
    {
      "cell_type": "code",
      "execution_count": 33,
      "metadata": {
        "id": "tfBHuygHwXlY"
      },
      "outputs": [],
      "source": [
        "marker_genes = {\n",
        "    \"CD14+ Mono\": [\"FCN1\", \"CD14\"],\n",
        "    \"CD16+ Mono\": [\"TCF7L2\", \"FCGR3A\", \"LYN\"],\n",
        "    # Note: DMXL2 should be negative\n",
        "    \"cDC2\": [\"CST3\", \"COTL1\", \"LYZ\", \"DMXL2\", \"CLEC10A\", \"FCER1A\"],\n",
        "    \"Erythroblast\": [\"MKI67\", \"HBA1\", \"HBB\"],\n",
        "    # Note HBM and GYPA are negative markers\n",
        "    \"Proerythroblast\": [\"CDK6\", \"SYNGR1\", \"HBM\", \"GYPA\"],\n",
        "    \"NK\": [\"GNLY\", \"NKG7\", \"CD247\", \"FCER1G\", \"TYROBP\", \"KLRG1\", \"FCGR3A\"],\n",
        "    \"ILC\": [\"ID2\", \"PLCG2\", \"GNLY\", \"SYNE1\"],\n",
        "    \"Naive CD20+ B\": [\"MS4A1\", \"IL4R\", \"IGHD\", \"FCRL1\", \"IGHM\"],\n",
        "    # Note IGHD and IGHM are negative markers\n",
        "    \"B cells\": [\n",
        "        \"MS4A1\",\n",
        "        \"ITGB1\",\n",
        "        \"COL4A4\",\n",
        "        \"PRDM1\",\n",
        "        \"IRF4\",\n",
        "        \"PAX5\",\n",
        "        \"BCL11A\",\n",
        "        \"BLK\",\n",
        "        \"IGHD\",\n",
        "        \"IGHM\",\n",
        "    ],\n",
        "    \"Plasma cells\": [\"MZB1\", \"HSP90B1\", \"FNDC3B\", \"PRDM1\", \"IGKC\", \"JCHAIN\"],\n",
        "    # Note PAX5 is a negative marker\n",
        "    \"Plasmablast\": [\"XBP1\", \"PRDM1\", \"PAX5\"],\n",
        "    \"CD4+ T\": [\"CD4\", \"IL7R\", \"TRBC2\"],\n",
        "    \"CD8+ T\": [\"CD8A\", \"CD8B\", \"GZMK\", \"GZMA\", \"CCL5\", \"GZMB\", \"GZMH\", \"GZMA\"],\n",
        "    \"T naive\": [\"LEF1\", \"CCR7\", \"TCF7\"],\n",
        "    \"pDC\": [\"GZMB\", \"IL3RA\", \"COBLL1\", \"TCF4\"],\n",
        "}"
      ]
    },
    {
      "cell_type": "code",
      "execution_count": null,
      "metadata": {
        "id": "C0ukvnI8wa-I"
      },
      "outputs": [],
      "source": [
        "sc.pl.dotplot(adata, marker_genes, groupby=\"leiden_res_0.02\", standard_scale=\"var\")"
      ]
    },
    {
      "cell_type": "markdown",
      "source": [
        "✨  There are fairly clear patterns of expression for our markers show here, which we can use to label our coarsest clustering with broad lineages."
      ],
      "metadata": {
        "id": "A_eqYj-fb6Ih"
      }
    },
    {
      "cell_type": "code",
      "execution_count": 35,
      "metadata": {
        "id": "gPSnHBIcweCE"
      },
      "outputs": [],
      "source": [
        "adata.obs[\"cell_type_lvl1\"] = adata.obs[\"leiden_res_0.02\"].map(\n",
        "    {\n",
        "        \"0\": \"Lymphocytes\",\n",
        "        \"1\": \"Monocytes\",\n",
        "        \"2\": \"Erythroid\",\n",
        "        \"3\": \"B Cells\",\n",
        "    }\n",
        ")"
      ]
    },
    {
      "cell_type": "code",
      "execution_count": null,
      "metadata": {
        "id": "r4pdDbRdwg0P"
      },
      "outputs": [],
      "source": [
        "sc.pl.dotplot(adata, marker_genes, groupby=\"leiden_res_0.50\", standard_scale=\"var\")"
      ]
    },
    {
      "cell_type": "markdown",
      "source": [
        "✨  This seems like a resolution that suitable to distinguish most of the different cell types in our data. As such, let’s try to annotate those by manually using the dotplot above, together with the UMAP of our clusters. Ideally, one would also look specifically into each cluster, and attempt to subcluster those if required."
      ],
      "metadata": {
        "id": "75tfnUR6cAMh"
      }
    },
    {
      "cell_type": "markdown",
      "source": [
        "# ✨  Differentially-expressed Genes as Markers\n",
        "✨  Furthermore, one can also calculate marker genes per cluster and then look up whether we can link those marker genes to any known biology, such as cell types and/or states. This is typically done using simple statistical tests, such as Wilcoxon and t-test, for each cluster vs the rest. ✨"
      ],
      "metadata": {
        "id": "U1aVYf7ZcBGf"
      }
    },
    {
      "cell_type": "code",
      "execution_count": 37,
      "metadata": {
        "id": "vyT9ncRqwkSk"
      },
      "outputs": [],
      "source": [
        "# Obtain cluster-specific differentially expressed genes\n",
        "sc.tl.rank_genes_groups(adata, groupby=\"leiden_res_0.50\", method=\"wilcoxon\")"
      ]
    },
    {
      "cell_type": "markdown",
      "source": [
        "✨  We can then use these genes to figure out what cell types we’re looking at. For example, Cluster 7 is expressing NKG7 and GNLY, suggesting these are NK cells. ✨\n",
        "\n",
        "✨  To create your own plots, or use a more automated approach, the differentially expressed genes can be extracted in a convenient format with scanpy.get.rank_genes_groups_df() ✨"
      ],
      "metadata": {
        "id": "0XlN14LicLMl"
      }
    },
    {
      "cell_type": "code",
      "execution_count": null,
      "metadata": {
        "id": "a5KGimr4wpT1"
      },
      "outputs": [],
      "source": [
        "sc.pl.rank_genes_groups_dotplot(\n",
        "    adata, groupby=\"leiden_res_0.50\", standard_scale=\"var\", n_genes=5\n",
        ")"
      ]
    },
    {
      "cell_type": "code",
      "execution_count": null,
      "metadata": {
        "id": "lZATDxeRwrK6"
      },
      "outputs": [],
      "source": [
        "sc.get.rank_genes_groups_df(adata, group=\"7\").head(5)"
      ]
    },
    {
      "cell_type": "code",
      "execution_count": null,
      "metadata": {
        "id": "zRNZNmtRwuUw"
      },
      "outputs": [],
      "source": [
        "dc_cluster_genes = sc.get.rank_genes_groups_df(adata, group=\"7\").head(5)[\"names\"]\n",
        "sc.pl.umap(\n",
        "    adata,\n",
        "    color=[*dc_cluster_genes, \"leiden_res_0.50\"],\n",
        "    legend_loc=\"on data\",\n",
        "    frameon=False,\n",
        "    ncols=3,\n",
        ")"
      ]
    },
    {
      "cell_type": "markdown",
      "source": [
        "✨  You may have noticed that the p-values found here are extremely low. This is due to the statistical test being performed considering each cell as an independent sample. For a more conservative approach you may want to consider “pseudo-bulking” your data by sample (e.g. sc.get.aggregate(adata, by=[\"sample\", \"cell_type\"], func=\"sum\", layer=\"counts\")) and using a more powerful differential expression tool, like pydeseq2. ✨"
      ],
      "metadata": {
        "id": "6xzRdAUJamZI"
      }
    }
  ],
  "metadata": {
    "colab": {
      "provenance": []
    },
    "kernelspec": {
      "display_name": "Python 3",
      "name": "python3"
    },
    "language_info": {
      "name": "python"
    }
  },
  "nbformat": 4,
  "nbformat_minor": 0
}